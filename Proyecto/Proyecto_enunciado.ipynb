{
 "cells": [
  {
   "cell_type": "markdown",
   "id": "048055ac",
   "metadata": {
    "cell_id": "1afe48f4-24bb-456a-8ebb-b21f17292fae",
    "deepnote_cell_height": 291.98333740234375,
    "deepnote_cell_type": "markdown",
    "pycharm": {
     "name": "#%% md\n"
    }
   },
   "source": [
    "# Proyecto\n",
    "\n",
    "**MDS7202: Laboratorio de Programación Científica para Ciencia de Datos**\n",
    "\n",
    "### Cuerpo Docente:\n",
    "\n",
    "- Profesor: Pablo Badilla\n",
    "- Auxiliar: Ignacio Meza D.\n",
    "- Ayudante: Patricio Ortiz\n",
    "\n",
    "*Por favor, lean detalladamente las instrucciones de la tarea antes de empezar a escribir.*\n"
   ]
  },
  {
   "cell_type": "markdown",
   "id": "9f6e3a28",
   "metadata": {
    "cell_id": "00001-08980085-11ff-46bb-ad0e-cfeebe049a14",
    "deepnote_cell_height": 225.11666870117188,
    "deepnote_cell_type": "markdown",
    "pycharm": {
     "name": "#%% md\n"
    }
   },
   "source": [
    "----\n",
    "\n",
    "## Reglas\n",
    "\n",
    "- Fecha de entrega: 15/07/2021 (atrasos hasta el domingo 17 de julio)\n",
    "- **Grupos de 2 personas.**\n",
    "- Cualquier duda fuera del horario de clases al foro. Mensajes al equipo docente serán respondidos por este medio.\n",
    "- Estrictamente prohibida la copia. \n",
    "- Pueden usar cualquier material del curso que estimen conveniente."
   ]
  },
  {
   "cell_type": "markdown",
   "id": "fd6b146a",
   "metadata": {
    "cell_id": "00002-00231602-ae19-4e86-8713-55497e9c1dc0",
    "deepnote_cell_height": 785.2166748046875,
    "deepnote_cell_type": "markdown",
    "owner_user_id": "d50c3174-babb-4861-9c71-7e3af66458b8",
    "pycharm": {
     "name": "#%% md\n"
    }
   },
   "source": [
    "---\n",
    "\n",
    "## El Desafío de Renacín 🧸\n",
    "\n",
    "<div align='center'>\n",
    "<img src='https://media.cnnchile.com/sites/2/2018/09/maipu-renacin-740x430.jpg' width=300>\n",
    "</div>\n",
    "\n",
    "Renacín, ex-influencer y figura (de peluche) publica; luego de su despido, decide que será una buena idea darle un giro a su vida y dedicarse al rubro del asesoramiento de inversionistas en la industria del cine. \n",
    "\n",
    "El futuro empresario plantea que el éxito potencial de una propuesta película debe ser analizado en base a evidencia histórica de cintas similares y no en la intuición ni en simples corazonadas. \n",
    "Por esto, plantea a las gerencias de las principales productoras de cine que sería ideal contar con una máquina que, dada las características de una propuesta de película (su género, la productora, su duración, su historia, etc...), prediga si esta será potencialmente una inversión rentable o no.\n",
    "\n",
    "Renacín está convencido que el éxito de una inversión en un filme debe estar relacionada por dos características muy relevantes de estas una vez que salen al mercado:\n",
    "\n",
    "**1. La potencial evaluación (Positiva, Negativa, etc...) que le dan sus consumidores.**\n",
    "\n",
    "**2. Las potenciales ganancias de la película.**\n",
    "\n",
    "Si bien la idea puede sonar excelente, Renacín carece en su totalidad de una formación en Ciencia de los Datos, por lo que decide ir en ayuda de expertos para implementar su idea. \n",
    "\n",
    "Sin embargo, decide no contratar a un equipo en particular, si no que tener la libertad de elegir entre muchos equipos que compiten entre si para saber cuál contratar. Para esto recurre a una triquiñuela recurrentemente utilizada en Data Science: Establecer una competencia abierta y pagar por el mejor modelo (i.e, que cumpla mejor sus requisitos).\n",
    "\n",
    "Para esto, el ex-influencer decide abrir una competencia en la plataforma [Codalab](https://codalab.lisn.upsaclay.fr/competitions/5521?secret_key=7ecfd279-9521-457d-8602-616532fcd813) (plataforma similar a Kaggle) la cuál, espera que se replete de buenos modelos. Los equipos que mejor evaluaciones obtengan (los primeros 3 de cada tabla) serán contratados y retribuidos con un cupón canjeable con la friolera cantidad de 1 punto bonus para el proyecto en el curso MDS7202.\n",
    "\n"
   ]
  },
  {
   "cell_type": "markdown",
   "id": "1e9e381a",
   "metadata": {
    "cell_id": "00003-c3cde4b4-710d-4987-b470-2494e93fb1ec",
    "deepnote_cell_height": 964.3333129882812,
    "deepnote_cell_type": "markdown",
    "pycharm": {
     "name": "#%% md\n"
    },
    "tags": []
   },
   "source": [
    "\n",
    "\n",
    "### Definición Formal del Problema\n",
    "\n",
    "El objetivo de este proyecto es aplicar todo lo aprendido hasta este momento con el fin de solucionar 2 problemas distintos: \n",
    "\n",
    "1. **Clasificación de potenciales evaluaciones con las que los consumidores evaluarán las películas**. Las posibles clases que deben asignar a cada juego son `('Negative', 'Mixed', 'Mostly Positive', 'Positive', 'Very Positive')`. La métrica de evaluación utilizada para medir la clasificación es `f1_macro`.\n",
    "2. **Regresión de los potenciales ingresos que tendrán las películas**. La métrica de evaluación utilizada para medir la clasificación es `r_2`.\n",
    "\n",
    "Para esto, ustedes contarán un dataset que cuenta con diversa información sobre películas (tales como productora, actores, duración, fecha de lanzamiento, keywords, etc...) más las etiquetas y valores a predecir.\n",
    "\n",
    "El objetivo final es que generen el mejor modelo posible para ambos problemas y que con estos, participen en la competencia habilitada en el siguiente ([link](https://codalab.lisn.upsaclay.fr/competitions/5521?secret_key=7ecfd279-9521-457d-8602-616532fcd813)).\n",
    "\n",
    "### Competencias de Data Science\n",
    "\n",
    "> Una competencia de Data Science funciona generalmente de la siguiente manera: \n",
    "\n",
    "1. Se plantea un problema que los equipos deben resolver.\n",
    "2. Se provee de datos de entrenamiento a los equipos para que generen modelos que resuelvan el problema.\n",
    "3. Se provee de datos de prueba que los equipos deberán predecir con los modelos creados. Una vez predichos, los equipos deben subir los archivos a la plataforma, la cuál los evaluará y publicará en un tablero disponible para todos los participantes.\n",
    "\n",
    "Existen muchos sitios en donde se publican competencias recurrentemente tales como [Kaggle](https://www.kaggle.com/) y [Codalab](https://codalab.lisn.upsaclay.fr/).\n",
    "\n",
    "### Competencia del Proyecto\n",
    "\n",
    "Para este proyecto, para participar en la competencia se les proveerá de tres datasets: `train_numerical_features.parquet`, `train_text_features.parquet` y `test.pickle`.\n",
    "\n",
    "- `train_numerical_features.parquet` y `train_text_features.parquet` deben usarlos como conjunto de entrenamiento del modelo; por lo que incluye las etiquetas y valores por predecir. noten que esto no implica que no deban hacer *holdout* para evaluar internamente su modelo (en este caso, el set de test es llamado de *validación*). Por otro lado, se recomienda que junten ambos archivos para generar el tablón final de entrenamiento.\n",
    "\n",
    "- `test.pickle` se usará para evaluar el rendimiento de sus modelos en la competencia. Es decir, este dataset solo contiene características de las películas y ustedes deberán predecir tanto las potenciales evaluaciones como las ganancias de estas y subir sus resultados.\n",
    "\n",
    "Para subir archivos a la competencia deberán registrarse en Codalab. Para evitar overfitting y/o que intenten adivinar los datos de testing, **puden participar máximo 5 veces en la competencia**. Usenlos sabiamente.\n",
    "\n",
    "**MUY IMPORTANTE**: Para la clasificación no usen las ganancias (target de la regresión) como atributo. Por otro lado, para la regresión no utilicen las evaluaciones como atributo para predecir. **Infringir estas reglas implicará en no contar el puntaje de la competencia como también descuentos en los items de clasificación como de regresión.** Recuerden que esta es información del \"futuro\": cuando estén las propuestas de películas no dispondremos de estas.\n",
    "\n",
    "\n"
   ]
  },
  {
   "cell_type": "markdown",
   "id": "83ab7dbc",
   "metadata": {
    "cell_id": "00004-a4f74232-f16f-4b68-9488-a39082e07e79",
    "deepnote_cell_height": 8913.283203125,
    "deepnote_cell_type": "markdown",
    "owner_user_id": "badcc427-fd3d-4615-9296-faa43ec69cfb",
    "pycharm": {
     "name": "#%% md\n"
    }
   },
   "source": [
    "---\n",
    "\n",
    "## Secciones Requeridas en el Informe\n",
    "\n",
    "La siguiente lista detalla las secciones que debe contener su notebook para resolver el proyecto. Es importante que al momento de desarrollar cada una de las secciones, estas sean escritas en un formato tipo **informe**, donde describan detalladamente cada uno de los puntos realizados.\n",
    "\n",
    "### 1. Introducción [0.5 Puntos]\n",
    "\n",
    "*Esta sección es literalmente una muy breve introducción con todo lo necesario para entender que hicieron en su proyecto.*\n",
    "\n",
    "- Describir brevemente ambos problemas planteados (clasificación y regresión).\n",
    "- Describir brevemente los datos de entrada que les provee el problema. \n",
    "- Describir qué métricas se ocupan para la evaluación del problema y por qué se utilizan.\n",
    "- [Escribir al final] Describir brevemente el modelo que usaron para resolver el problema (incluyendo las transformaciones intermedias de datos).\n",
    "- [Escribir al final] Indicar si lograron resolver el problema a través de su modelo. Indiquen además si creen que los resultados de su mejor modelo son aceptables y como les fue con respecto al resto de los equipos.\n",
    "\n",
    "### 2. Preparación del Dataset y Análisis Exploratorio de Datos [2 Puntos]\n",
    "\n",
    "\n",
    "*La idea de esta sección es que preparen y exploren el dataset y obtengan una idea de como son los datos de su problema para que en la siguientes secciones, puedan modelarlos.*\n",
    "\n",
    "#### Carga y Preparación de los Datos\n",
    "\n",
    "Primero, se les solicita que ejecuten los siguientes pasos de carga de datos:\n",
    "\n",
    "- Cargar los datos con Pandas y fusionar por `id`.\n",
    "- Eliminar columnas `'poster_path'`, `'backdrop_path'`, `'recommendations'`.\n",
    "- Filtrar ejemplos con `revenue` igual a 0.\n",
    "- Filtrar ejemplos con `release_date` y `runtime` nulos.\n",
    "- Convertir fechas de release_date a `pd.DateTime`.\n",
    "- Conservar solo los ejemplos con `status` `\"Released\"`.\n",
    "- Rellenar valores nulos categóricos y de texto con `''`.\n",
    "- Discretizar `vote_average` a los siguientes bins y guardar los resultados en la columna `label`: \n",
    "  - (0, 5]: `'Negative'`\n",
    "  - (5, 6]: `'Mixed'`\n",
    "  - (6, 7]: `'Mostly Positive'`\n",
    "  - (7, 8]: `'Positive'`\n",
    "  - (8, 10]: `'Very Positive'`\n",
    "- Eliminar la columna `vote_average` e `id`\n",
    "- Renombrar la columna `revenue` por `target`.\n",
    "\n",
    "Todos los pasos anteriormente nombrados deben ser realizados con Pandas y sus métodos, y sin la ayuda de ningún ciclo `for`. Si no conoce alguna operación, se recomienda fuertemente buscar en la web antes de intentar hacerlo por fuerza bruta.\n",
    "\n",
    "#### EDA\n",
    "\n",
    "Luego, se les solicita que realizen un EDA en donde hagan tareas generales como:\n",
    "\n",
    "- Analizar los tipos de datos y distribuciones de las variables a través de histogramas.\n",
    "- Generar visualizaciones de las interacciones (como por ejemplo, una scatter matrix) en las distintas variables.\n",
    "- Ver las correlaciones entre las distintas variables y los valores faltantes de cada una de estas. \n",
    "- Proyectar los datos con UMAP para ver si existen relaciones entre las distintas variables de forma bi o tri dimensional.\n",
    "- Reportar los patrones y relaciones interesantes.\n",
    "\n",
    "Como también tareas particulares como:\n",
    "\n",
    "- Genenrar un scatterplot de `budget` vs `target` (ex-revenue).\n",
    "- Buscar las peliculas de Marvel y hacer un scatter plot que en el eje x contenga `budget` y en el eje y `target` (ex-revenue). Utilice las columnas `` como `` y como `hover_name` .\n",
    "- Graficar a través de un gráfico de barras las 50 productoras más frecuentes. Incluya la cantidad de `nans`.\n",
    "- Graficar a través de un gráfico de barras los 50 artistas más frecuentes. \n",
    "\n",
    "Las tareas mencionadas anteriormente son lo mínimo. Sin embargo, ojalá no se restringan a lo mencionado anteriormente y exploren aún más en profundidad. Pueden usar tanto **`pandas`** como **plotly** y ``pandas profiling`` para esto. En el caso de generar un profile, adjuntar los resultados en el notebook.\n",
    "\n",
    "### 3. Preparación de Datos [0.5 Punto]\n",
    "\n",
    "#### ColumnTransformer y Holdout\n",
    "\n",
    "*Esta sección consiste en generar los distintos pasos para preparar sus datos con el fin de luego poder crear su modelo.*\n",
    "\n",
    "Generar un ColumnTransformer que:\n",
    "\n",
    "- Preprocese datos categóricos y ordinales.\n",
    "- Escale/estandarice datos numéricos.\n",
    "- Codifique texto.\n",
    "\n",
    "Luego, pruebe las transformaciones utilizando `fit_transform` y `get_feature_names out`.\n",
    "\n",
    "Posteriormente, ejecute un Holdout que le permita más adelante evaluar los modelos. **Recuerde eliminar los target y las labels del dataset antes de dividirlo**.\n",
    "\n",
    "#### Feature Engineering\n",
    "\n",
    "Adicionalmente puede generar una nueva transformación que genere nuevas features y que se aplique antes del ColumnTransformer dentro del pipeline de los modelos. Investigar [`FunctionTransformer`](https://scikit-learn.org/stable/modules/generated/sklearn.preprocessing.FunctionTransformer.html) para ver como implementar una transformación a partir de una función que tome un dataframe y entregue uno distinto en la salida.\n",
    "\n",
    "- Encodear ciclicamente los meses/días de las fechas de lanzamiento.\n",
    "- Contar cuantas veces aparecen en las peliculas ciertos personajes célebres.\n",
    "- Indicar si la pelicula es de una productora famosa o no.\n",
    "- Agrupar distintas keywords en categorías más generales.\n",
    "- Generar ratios con las variables numericas del dataset (como duración de la película/presupuesto).\n",
    "- Contar los diferentes generos similares que posee una pelicula.\n",
    "- Extraer vectores desde los overviews de las peliculas.\n",
    "- Contar el número de actores/productoras/géneros.\n",
    "- Etc... Usen su creatividad!\n",
    "\n",
    "Nuevamente, recuerde no utilizar ni los targets ni las labels para generar nuevas features.\n",
    "\n",
    "Nota: Este último paso no es requisito pero puede catapultarlos a la cima del tablero de las competencias.\n",
    "\n",
    "### 4. Clasificación [1.5 puntos]\n",
    "\n",
    "#### Creación del modelo **Dummy** y del *Baseline* [0.5 Puntos]\n",
    "\n",
    "*En esta sección crearán el modelo más básico posible que resuelva el problema. La idea de este modelo usarlo como comparación para que en el siguiente paso lo puedan mejorar.*\n",
    "\n",
    "- Generar un modelo Dummy con estrategia estratificada que les permita comparar más adelante si su baseline de clasificación es mejor que el azar.\n",
    "- Generar un pipeline para la clasificación con un clasificador relativamente sencillo a la salida (a su elección, recomendado: arbol de decisión).\n",
    "- Evaluar ambos modelos según las métricas de evaluación y reportar.\n",
    "\n",
    "#### Optimización del Modelo [1 Puntos]\n",
    "\n",
    "*Aquí deberán mejorar del modelo de clasificación al variar los algoritmos/hiperparámetros que están ocupando.*\n",
    "\n",
    "- Generar una nueva `Pipeline` enfocada en buscar el mejor modelo usando GridSearch.\n",
    "- Usar **`GridSearchCV`** o **`HalvingGridSearchCV`** para tunear hipermarámetros. La primera demorará más que la segunda pero les traerá potencialmente mejores resultados. Pueden probar también [`OptunaSearchCV`](https://optuna.readthedocs.io/en/stable/reference/generated/optuna.integration.OptunaSearchCV.html) de la librería [`Optuna`](https://optuna.org/) , la cuál es bastante popular para buscar modelos de redes neuronales.\n",
    "- Agregar técnicas de seleccion de atributos, como también usar mejores clasificadores y explorar sus hiperparámetros. \n",
    "- Probar distintos parámetros para las transformaciones de datos, seleccion de atributos, clasificadores, etc...\n",
    "- Probar modelos basados en gradient boosting/bagging. **Recomendación fuerte:** Probar [`LightGMB`](https://lightgbm.readthedocs.io/en/latest/) o [`xgboost`](https://xgboost.readthedocs.io/en/stable/).\n",
    "- Probar activando/descativando los procesadores de texto, de categorías, etc...\n",
    "- Recuerden setear la búsqueda para optimizar la métrica que se evalua en la competencia.\n",
    "\n",
    "Algunas notas interesantes sobre este proceso: \n",
    "\n",
    "- No se les pide rendimientos cercanos al 100% de la métrica para concretar exitosamente el proyecto. Por otra parte, celebren cada progreso que obtengan.\n",
    "- Hagan grillas computables: Si la grilla se va a demorar 1/3 la edad del universo en explorarse completamente, entonces achíquenla a algo que sepan que va a terminar. \n",
    "- Aprovechen el procesamiento paralelo (con `njobs`) para acelerar la búsqueda. Sin embargo, si tienen problemas con la memoria RAM, reduzca la cantidad de jobs a algo que su computador/interprete web pueda procesar.\n",
    "\n",
    "**Al final de este proceso, seleccione el mejor modelo de clasificación encontrado, prediga las labels del test set de la competencia y envíelos a Codalab.**\n",
    "\n",
    "### 4. Regresión [1.5 Puntos]\n",
    "\n",
    "#### Creación del modelo **Dummy** y del *Baseline* [0.5 Punto]\n",
    "\n",
    "*En esta sección crearán el modelo más básico posible que resuelva el segundo problema, el de las ganancias. La idea de este modelo usarlo como comparación para que en el siguiente paso lo puedan mejorar.*\n",
    "\n",
    "- Generar un modelo Dummy que les permita comparar más adelante si su baseline de regresión es mejor que el azar.\n",
    "- Generar un pipeline para la regresión con un regresor relativamente sencillo de utilizar (a su elección, recomendado: arbol de decisión).\n",
    "- Evaluar ambos modelos según las métricas de evaluación y reportar.\n",
    "\n",
    "#### Optimización del Modelo [1 Puntos]\n",
    "\n",
    "*Aquí deberán mejorar del modelo de regresión al variar los algoritmos/hiperparámetros que están ocupando.*\n",
    "\n",
    "- Generar una nueva `Pipeline` enfocada en buscar el mejor modelo usando GridSearch.\n",
    "- Usar **`GridSearchCV`** o **`HalvingGridSearchCV`** para tunear hipermarámetros. La primera demorará más que la segunda pero les traerá potencialmente mejores resultados. Pueden probar también [`OptunaSearchCV`](https://optuna.readthedocs.io/en/stable/reference/generated/optuna.integration.OptunaSearchCV.html) de la librería [`Optuna`](https://optuna.org/) , la cuál es bastante popular para buscar modelos de redes neuronales.\n",
    "- Agregar técnicas de seleccion de atributos, como también usar mejores clasificadores y explorar sus hiperparámetros. \n",
    "- Probar distintos parámetros para las transformaciones de datos, seleccion de atributos, clasificadores, etc...\n",
    "- Probar modelos basados en gradient boosting/bagging. **Recomendación fuerte:** Probar las librerías [`LightGMB`](https://lightgbm.readthedocs.io/en/latest/) o [`xgboost`](https://xgboost.readthedocs.io/en/stable/).\n",
    "- Probar activando/descativando los procesadores de texto, de categorías, etc...\n",
    "- Recuerden setear la búsqueda para optimizar la métrica que se evalua en la competencia.\n",
    "\n",
    "\n",
    "\n",
    "Algunas notas interesantes sobre este proceso (las mismas que antes...): \n",
    "\n",
    "- No se les pide rendimientos cercanos al 100% de la métrica para concretar exitosamente el proyecto. Por otra parte, celebren cada progreso que obtengan.\n",
    "- Hagan grillas computables: Si la grilla se va a demorar 1/3 la edad del universo en explorarse completamente, entonces achíquenla a algo que sepan que va a terminar. \n",
    "- Aprovechen el procesamiento paralelo (con `njobs`) para acelerar la búsqueda. Sin embargo, si tienen problemas con la memoria RAM, reduzca la cantidad de jobs a algo que su computador/interprete web pueda procesar.\n",
    "\n",
    "**Al final de este proceso, seleccione el mejor modelo de regresión encontrado, prediga los target del test set de la competencia y envíelos a Codalab.**\n",
    "\n",
    "\n",
    "### 6. Concluir [0.5 Punto] \n",
    "\n",
    "\n",
    "*Aquí deben escribir una breve conclusión del trabajo que hicieron en donde incluyan (pero no se limiten) a responder las siguientes preguntas:*\n",
    "\n",
    "- ¿Pudieron resolver exitosamente el problema?\n",
    "- ¿Son aceptables los resultados obtenidos?\n",
    "- ¿En que medida el EDA ayudó a comprender los datos en miras de generar un modelo predictivo?\n",
    "\n",
    "Respecto a la clasificación:\n",
    "\n",
    "- ¿Como fue el rendimiento del baseline para la clasificación?\n",
    "- ¿Pudieron optimizar el baseline para la clasificación?\n",
    "- ¿Que tanto mejoro el baseline de la clasificación con respecto a sus optimizaciones?\n",
    "\n",
    "Respecto a la regresión:\n",
    "\n",
    "- ¿Como fue el rendimiento del baseline para la clasificación?\n",
    "- ¿Pudieron optimizar el baseline para la clasificación?\n",
    "- ¿Que tanto mejoro el baseline de la clasificación con respecto a sus optimizaciones?\n",
    "\n",
    "Finalmente: \n",
    "\n",
    "- ¿Estuvieron conformes con sus resultados?\n",
    "- ¿Creen que hayan mejores formas de modelar el problema?\n",
    "- ¿En general, qué aprendieron del proyecto? ¿Qué no aprendieron y les gustaría haber aprendido?\n",
    "\n",
    "**OJO** si usted decide responder parte de estas preguntas, debe redactarlas en un formato de informe y no responderlas directamente.\n",
    "\n",
    "### 7. Punto por superar el baseline de la competencia. [1 Punto]\n",
    "\n",
    "*Este punto es solo informativo, no deben escribir nada aquí*\n",
    "\n",
    "\n",
    "### Otras Instrucciones\n",
    "\n",
    "Pueden separar las tareas en 3 notebooks distintos: EDA, clasificación y regresión. Esto les permitirá tener el código de estas tres secciones separadas y mejor ordenado a la vez que reduce el uso de memoria RAM.\n",
    "Noten que una estructura así requerirá que la etapa de carga y preparación de los datos esté presente en los 3 notebooks (para que trabaje con el mismo dataset en cada instancia). "
   ]
  },
  {
   "cell_type": "markdown",
   "id": "2707631e",
   "metadata": {
    "cell_id": "00005-aeba1c85-fe35-4f74-9923-d2edc00d7e60",
    "deepnote_cell_height": 249.23333740234375,
    "deepnote_cell_type": "markdown",
    "pycharm": {
     "name": "#%% md\n"
    }
   },
   "source": [
    "---\n",
    "\n",
    "## Esquema de la Tarea\n",
    "\n",
    "\n",
    "Pueden usar el siguiente esquema para organizar la tarea (y borrar todo lo anterior).\n",
    "Obviamente **no deben limitarse a lo que está escrito en esta**: puede incrementar en caso de más técnicas y obviar algunas partes en caso que alguna y otro punto no aplique a su problema.\n",
    "\n",
    "Pueden borrar las instrucciones anteriores y quedarse solo con lo que viene a continuación.\n",
    "\n",
    "\n",
    "---\n",
    "---\n",
    "<br>\n",
    "\n",
    "<br>\n",
    "\n",
    "<br>"
   ]
  },
  {
   "cell_type": "markdown",
   "source": [
    "\n",
    "\n",
    "# Proyecto\n",
    "\n",
    "### Equipo:\n",
    "\n",
    "- \\<Matías Vergara\\>\n",
    "\n",
    "- \\<mvergaras\\>\n",
    "\n",
    "- \\<Nombre del Equipo en Codalab\\>\n",
    "\n",
    "### Link de repositorio de GitHub: `\\https://github.com/matiasvergaras/MDS7201\\>`\n",
    "\n"
   ],
   "metadata": {
    "collapsed": false,
    "pycharm": {
     "name": "#%% md\n"
    }
   }
  },
  {
   "cell_type": "markdown",
   "source": [
    "\n",
    "## 1. Introducción\n",
    "\n",
    "El objetivo de este proyecto consiste en ...\n",
    "\n",
    "Los datos que proveen es un dataset con X ejemplos que describen una observación de ... \n",
    "Son N atributos y la variables objetivos son de tipo ... y ...\n",
    "\n",
    "La primera tarea se evalua en base a la métrica ... ya que esta permite medir ...\n",
    "\n",
    "Nuestra propuesta para resolver el problema consistió en modelo de clasificación basado en...\n",
    "\n",
    "Nuestro modelo cumplió/no cumplió las expectativas..."
   ],
   "metadata": {
    "collapsed": false,
    "pycharm": {
     "name": "#%% md\n"
    }
   }
  },
  {
   "cell_type": "markdown",
   "source": [
    "---\n",
    "## 2. Preparación y Análisis Exploratorio de Datos"
   ],
   "metadata": {
    "collapsed": false,
    "pycharm": {
     "name": "#%% md\n"
    }
   }
  },
  {
   "cell_type": "markdown",
   "source": [
    "### 2.1 Carga y Preparación de los Datos"
   ],
   "metadata": {
    "collapsed": false,
    "pycharm": {
     "name": "#%% md\n"
    }
   }
  },
  {
   "cell_type": "code",
   "execution_count": null,
   "outputs": [],
   "source": [
    "# Librerias necesarias\n",
    "import pandas as pd\n",
    "!pip install pyarrow"
   ],
   "metadata": {
    "collapsed": false,
    "pycharm": {
     "name": "#%%\n"
    }
   }
  },
  {
   "cell_type": "markdown",
   "source": [
    "En primer lugar, cargamos cada uno de los datasets y observamos algunas de sus filas."
   ],
   "metadata": {
    "collapsed": false,
    "pycharm": {
     "name": "#%% md\n"
    }
   }
  },
  {
   "cell_type": "code",
   "execution_count": null,
   "outputs": [],
   "source": [
    "##  Código Preparación de Datos.\n",
    "train_numerical = pd.read_parquet(\"train_numerical_features.parquet\")\n",
    "train_text = pd.read_parquet(\"train_text_features.parquet\")\n",
    "display(train_numerical)\n",
    "display(train_text)"
   ],
   "metadata": {
    "collapsed": false,
    "pycharm": {
     "name": "#%%\n"
    }
   }
  },
  {
   "cell_type": "markdown",
   "source": [
    "Notamos que ambos datasets tienen 9641 filas. Hacemos ahora el merge por id."
   ],
   "metadata": {
    "collapsed": false,
    "pycharm": {
     "name": "#%% md\n"
    }
   }
  },
  {
   "cell_type": "code",
   "execution_count": null,
   "outputs": [],
   "source": [
    "train_df = train_numerical.merge(train_text, left_on='id', right_on='id')\n",
    "train_df"
   ],
   "metadata": {
    "collapsed": false,
    "pycharm": {
     "name": "#%%\n"
    }
   }
  },
  {
   "cell_type": "markdown",
   "source": [
    "El dataset resultante mantiene las 6941 filas, lo cual nos indica que los ids en ambos datasets eran los mismos. Podemos continuar entonces con lo solicitado por enunciado. \n",
    "\n",
    "Comenzamos primero con eliminar las columnas `poster_path`, `backdrop_path` y `recommendations`. Nótese que esto tiene sentido pues las primeras dos corresponden a rutas en algún computador (probablemente desde el que salieron los datos o algún servidor web) a los posters de las películas, pero no tienen sentido en nuestro caso ni aportan información relevante, pues son nombres hasheados (distinto sería si los paths fueran, por ejemplo, \"buenas_peliculas/poster1.png , peliculas_masomenos/poster2.png\"). Para el caso de las recommendations, por otro lado, son números que parecen no tener sentido para el estudio."
   ],
   "metadata": {
    "collapsed": false,
    "pycharm": {
     "name": "#%% md\n"
    }
   }
  },
  {
   "cell_type": "code",
   "execution_count": null,
   "outputs": [],
   "source": [
    "train_df = train_df.drop(columns=['poster_path', 'backdrop_path', 'recommendations'])"
   ],
   "metadata": {
    "collapsed": false,
    "pycharm": {
     "name": "#%%\n"
    }
   }
  },
  {
   "cell_type": "markdown",
   "source": [
    "Aplicamos ahora los filtros indicados."
   ],
   "metadata": {
    "collapsed": false,
    "pycharm": {
     "name": "#%% md\n"
    }
   }
  },
  {
   "cell_type": "code",
   "execution_count": null,
   "outputs": [],
   "source": [
    "train_df = train_df.loc[(train_df['revenue'] != 0)]\n",
    "train_df"
   ],
   "metadata": {
    "collapsed": false,
    "pycharm": {
     "name": "#%%\n"
    }
   }
  },
  {
   "cell_type": "markdown",
   "source": [
    "Pasamos de 9641 a 6551 filas, es decir, perdimos casi un tercio de las entradas. Veamos cómo nos va ahora al filtrar aquellas con `release_date` y `runtime` nulos."
   ],
   "metadata": {
    "collapsed": false,
    "pycharm": {
     "name": "#%% md\n"
    }
   }
  },
  {
   "cell_type": "code",
   "execution_count": null,
   "outputs": [],
   "source": [
    "train_df = train_df.loc[(train_df.release_date.notnull()) \n",
    "                        & (train_df.runtime.notnull())]\n",
    "train_df"
   ],
   "metadata": {
    "collapsed": false,
    "pycharm": {
     "name": "#%%\n"
    }
   }
  },
  {
   "cell_type": "markdown",
   "source": [
    "Mantenemos la misma cantidad de filas: las entradas con runtime y release_date nulos se fueron con el filtro previo. Encarguémonos ahora de convertir release date a DateTime."
   ],
   "metadata": {
    "collapsed": false,
    "pycharm": {
     "name": "#%% md\n"
    }
   }
  },
  {
   "cell_type": "code",
   "execution_count": null,
   "outputs": [],
   "source": [
    "train_df['release_date'] = pd.to_datetime(train_df['release_date'])"
   ],
   "metadata": {
    "collapsed": false,
    "pycharm": {
     "name": "#%%\n"
    }
   }
  },
  {
   "cell_type": "markdown",
   "source": [
    "...Filtremos ahora solo aquellas películas con status `Released`."
   ],
   "metadata": {
    "collapsed": false,
    "pycharm": {
     "name": "#%% md\n"
    }
   }
  },
  {
   "cell_type": "code",
   "execution_count": null,
   "outputs": [],
   "source": [
    "train_df = train_df.loc[(train_df.status == \"Released\")]"
   ],
   "metadata": {
    "collapsed": false,
    "pycharm": {
     "name": "#%%\n"
    }
   }
  },
  {
   "cell_type": "markdown",
   "source": [
    "Rellenemos también los atributos nulos categóricos y de texto con el string vacío."
   ],
   "metadata": {
    "collapsed": false,
    "pycharm": {
     "name": "#%% md\n"
    }
   }
  },
  {
   "cell_type": "code",
   "execution_count": null,
   "outputs": [],
   "source": [
    "train_df.dtypes"
   ],
   "metadata": {
    "collapsed": false,
    "pycharm": {
     "name": "#%%\n"
    }
   }
  },
  {
   "cell_type": "code",
   "execution_count": null,
   "outputs": [],
   "source": [
    "cols = train_df.columns[train_df.dtypes != \"float64\"]\n",
    "cols = cols[cols != \"int64\"\n",
    "cols"
   ],
   "metadata": {
    "collapsed": false,
    "pycharm": {
     "name": "#%%\n"
    }
   }
  },
  {
   "cell_type": "markdown",
   "source": [
    "### 2.2 Análisis Exploratorio de Datos"
   ],
   "metadata": {
    "collapsed": false,
    "pycharm": {
     "name": "#%% md\n"
    }
   }
  },
  {
   "cell_type": "markdown",
   "id": "fbf0a96e",
   "metadata": {},
   "source": [
    "Notamos que ambos datasets tienen 9641 filas. Hacemos ahora el merge por id."
   ]
  },
  {
   "cell_type": "code",
   "execution_count": 18,
   "id": "825b15ab",
   "metadata": {},
   "outputs": [
    {
     "data": {
      "text/html": [
       "<div>\n",
       "<style scoped>\n",
       "    .dataframe tbody tr th:only-of-type {\n",
       "        vertical-align: middle;\n",
       "    }\n",
       "\n",
       "    .dataframe tbody tr th {\n",
       "        vertical-align: top;\n",
       "    }\n",
       "\n",
       "    .dataframe thead th {\n",
       "        text-align: right;\n",
       "    }\n",
       "</style>\n",
       "<table border=\"1\" class=\"dataframe\">\n",
       "  <thead>\n",
       "    <tr style=\"text-align: right;\">\n",
       "      <th></th>\n",
       "      <th>id</th>\n",
       "      <th>title_x</th>\n",
       "      <th>budget</th>\n",
       "      <th>revenue</th>\n",
       "      <th>runtime</th>\n",
       "      <th>status</th>\n",
       "      <th>tagline_x</th>\n",
       "      <th>credits_x</th>\n",
       "      <th>poster_path</th>\n",
       "      <th>backdrop_path</th>\n",
       "      <th>...</th>\n",
       "      <th>title_y</th>\n",
       "      <th>genres</th>\n",
       "      <th>original_language</th>\n",
       "      <th>overview</th>\n",
       "      <th>production_companies</th>\n",
       "      <th>release_date</th>\n",
       "      <th>tagline_y</th>\n",
       "      <th>credits_y</th>\n",
       "      <th>keywords</th>\n",
       "      <th>vote_average</th>\n",
       "    </tr>\n",
       "  </thead>\n",
       "  <tbody>\n",
       "    <tr>\n",
       "      <th>0</th>\n",
       "      <td>338953</td>\n",
       "      <td>Fantastic Beasts: The Secrets of Dumbledore</td>\n",
       "      <td>200000000.0</td>\n",
       "      <td>400000000.0</td>\n",
       "      <td>142.0</td>\n",
       "      <td>Released</td>\n",
       "      <td>Return to the magic.</td>\n",
       "      <td>Jude Law-Eddie Redmayne-Mads Mikkelsen-Ezra Mi...</td>\n",
       "      <td>/jrgifaYeUtTnaH7NF5Drkgjg2MB.jpg</td>\n",
       "      <td>/zGLHX92Gk96O1DJvLil7ObJTbaL.jpg</td>\n",
       "      <td>...</td>\n",
       "      <td>Fantastic Beasts: The Secrets of Dumbledore</td>\n",
       "      <td>Fantasy-Adventure-Action</td>\n",
       "      <td>en</td>\n",
       "      <td>Professor Albus Dumbledore knows the powerful ...</td>\n",
       "      <td>Warner Bros. Pictures-Heyday Films</td>\n",
       "      <td>2022-04-06</td>\n",
       "      <td>Return to the magic.</td>\n",
       "      <td>Jude Law-Eddie Redmayne-Mads Mikkelsen-Ezra Mi...</td>\n",
       "      <td>magic-curse-fantasy world-wizard-magical creat...</td>\n",
       "      <td>6.9</td>\n",
       "    </tr>\n",
       "    <tr>\n",
       "      <th>1</th>\n",
       "      <td>675353</td>\n",
       "      <td>Sonic the Hedgehog 2</td>\n",
       "      <td>110000000.0</td>\n",
       "      <td>393000000.0</td>\n",
       "      <td>122.0</td>\n",
       "      <td>Released</td>\n",
       "      <td>Welcome to the next level.</td>\n",
       "      <td>James Marsden-Ben Schwartz-Tika Sumpter-Natash...</td>\n",
       "      <td>/6DrHO1jr3qVrViUO6s6kFiAGM7.jpg</td>\n",
       "      <td>/egoyMDLqCxzjnSrWOz50uLlJWmD.jpg</td>\n",
       "      <td>...</td>\n",
       "      <td>Sonic the Hedgehog 2</td>\n",
       "      <td>Action-Adventure-Family-Comedy</td>\n",
       "      <td>en</td>\n",
       "      <td>After settling in Green Hills Sonic is eager t...</td>\n",
       "      <td>Original Film-Blur Studio-Marza Animation Plan...</td>\n",
       "      <td>2022-03-30</td>\n",
       "      <td>Welcome to the next level.</td>\n",
       "      <td>James Marsden-Ben Schwartz-Tika Sumpter-Natash...</td>\n",
       "      <td>sequel-based on video game-hedgehog-live actio...</td>\n",
       "      <td>7.7</td>\n",
       "    </tr>\n",
       "    <tr>\n",
       "      <th>2</th>\n",
       "      <td>752623</td>\n",
       "      <td>The Lost City</td>\n",
       "      <td>74000000.0</td>\n",
       "      <td>164289828.0</td>\n",
       "      <td>112.0</td>\n",
       "      <td>Released</td>\n",
       "      <td>The adventure is real. The heroes are not.</td>\n",
       "      <td>Sandra Bullock-Channing Tatum-Daniel Radcliffe...</td>\n",
       "      <td>/neMZH82Stu91d3iqvLdNQfqPPyl.jpg</td>\n",
       "      <td>/1Ds7xy7ILo8u2WWxdnkJth1jQVT.jpg</td>\n",
       "      <td>...</td>\n",
       "      <td>The Lost City</td>\n",
       "      <td>Action-Adventure-Comedy</td>\n",
       "      <td>en</td>\n",
       "      <td>A reclusive romance novelist was sure nothing ...</td>\n",
       "      <td>Paramount-Fortis Films-3dot Productions-Exhibi...</td>\n",
       "      <td>2022-03-24</td>\n",
       "      <td>The adventure is real. The heroes are not.</td>\n",
       "      <td>Sandra Bullock-Channing Tatum-Daniel Radcliffe...</td>\n",
       "      <td>duringcreditsstinger</td>\n",
       "      <td>6.8</td>\n",
       "    </tr>\n",
       "    <tr>\n",
       "      <th>3</th>\n",
       "      <td>526896</td>\n",
       "      <td>Morbius</td>\n",
       "      <td>75000000.0</td>\n",
       "      <td>161000000.0</td>\n",
       "      <td>105.0</td>\n",
       "      <td>Released</td>\n",
       "      <td>A new Marvel legend arrives.</td>\n",
       "      <td>Jared Leto-Matt Smith-Adria Arjona-Jared Harri...</td>\n",
       "      <td>/6JjfSchsU6daXk2AKX8EEBjO3Fm.jpg</td>\n",
       "      <td>/kmCBLNHsNnlDEtghSaF2nabpG2T.jpg</td>\n",
       "      <td>...</td>\n",
       "      <td>Morbius</td>\n",
       "      <td>Action-Science Fiction-Fantasy</td>\n",
       "      <td>en</td>\n",
       "      <td>Dangerously ill with a rare blood disorder and...</td>\n",
       "      <td>Columbia Pictures-Avi Arad Productions-Matt To...</td>\n",
       "      <td>2022-03-30</td>\n",
       "      <td>A new Marvel legend arrives.</td>\n",
       "      <td>Jared Leto-Matt Smith-Adria Arjona-Jared Harri...</td>\n",
       "      <td>vampire-based on comic</td>\n",
       "      <td>6.4</td>\n",
       "    </tr>\n",
       "    <tr>\n",
       "      <th>4</th>\n",
       "      <td>335787</td>\n",
       "      <td>Uncharted</td>\n",
       "      <td>120000000.0</td>\n",
       "      <td>400780000.0</td>\n",
       "      <td>116.0</td>\n",
       "      <td>Released</td>\n",
       "      <td>Fortune favors the bold.</td>\n",
       "      <td>Tom Holland-Mark Wahlberg-Sophia Ali-Tati Gabr...</td>\n",
       "      <td>/tlZpSxYuBRoVJBOpUrPdQe9FmFq.jpg</td>\n",
       "      <td>/aEGiJJP91HsKVTEPy1HhmN0wRLm.jpg</td>\n",
       "      <td>...</td>\n",
       "      <td>Uncharted</td>\n",
       "      <td>Action-Adventure</td>\n",
       "      <td>en</td>\n",
       "      <td>A young street-smart Nathan Drake and his wise...</td>\n",
       "      <td>Columbia Pictures-Atlas Entertainment-PlayStat...</td>\n",
       "      <td>2022-02-10</td>\n",
       "      <td>Fortune favors the bold.</td>\n",
       "      <td>Tom Holland-Mark Wahlberg-Sophia Ali-Tati Gabr...</td>\n",
       "      <td>treasure-treasure hunt-based on video game-dlb</td>\n",
       "      <td>7.2</td>\n",
       "    </tr>\n",
       "    <tr>\n",
       "      <th>...</th>\n",
       "      <td>...</td>\n",
       "      <td>...</td>\n",
       "      <td>...</td>\n",
       "      <td>...</td>\n",
       "      <td>...</td>\n",
       "      <td>...</td>\n",
       "      <td>...</td>\n",
       "      <td>...</td>\n",
       "      <td>...</td>\n",
       "      <td>...</td>\n",
       "      <td>...</td>\n",
       "      <td>...</td>\n",
       "      <td>...</td>\n",
       "      <td>...</td>\n",
       "      <td>...</td>\n",
       "      <td>...</td>\n",
       "      <td>...</td>\n",
       "      <td>...</td>\n",
       "      <td>...</td>\n",
       "      <td>...</td>\n",
       "      <td>...</td>\n",
       "    </tr>\n",
       "    <tr>\n",
       "      <th>9636</th>\n",
       "      <td>116741</td>\n",
       "      <td>The Internship</td>\n",
       "      <td>58000000.0</td>\n",
       "      <td>44000000.0</td>\n",
       "      <td>119.0</td>\n",
       "      <td>Released</td>\n",
       "      <td>Hiring them was a brilliant mistake.</td>\n",
       "      <td>Vince Vaughn-Owen Wilson-Rose Byrne-Aasif Mand...</td>\n",
       "      <td>/hIh3ZgsZ31nbUAGn5SKIZGKiKCX.jpg</td>\n",
       "      <td>/kms4PhWfP1Q2jidPLOf26qm0paJ.jpg</td>\n",
       "      <td>...</td>\n",
       "      <td>The Internship</td>\n",
       "      <td>Comedy</td>\n",
       "      <td>en</td>\n",
       "      <td>Two recently laid-off men in their 40s try to ...</td>\n",
       "      <td>TSG Entertainment-Regency Enterprises-Wild Wes...</td>\n",
       "      <td>2013-06-07</td>\n",
       "      <td>Hiring them was a brilliant mistake.</td>\n",
       "      <td>Vince Vaughn-Owen Wilson-Rose Byrne-Aasif Mand...</td>\n",
       "      <td>mattress shop-job interview-rivalry-loss of jo...</td>\n",
       "      <td>6.3</td>\n",
       "    </tr>\n",
       "    <tr>\n",
       "      <th>9637</th>\n",
       "      <td>253835</td>\n",
       "      <td>Los Bandoleros</td>\n",
       "      <td>0.0</td>\n",
       "      <td>0.0</td>\n",
       "      <td>20.0</td>\n",
       "      <td>Released</td>\n",
       "      <td>None</td>\n",
       "      <td>Vin Diesel-Michelle Rodriguez-Sung Kang-Tego C...</td>\n",
       "      <td>/rqWRTgjHcmcmeRXE1w1LyYZupwS.jpg</td>\n",
       "      <td>/uijC23zReJLR3xUq3xh41NuI6vG.jpg</td>\n",
       "      <td>...</td>\n",
       "      <td>Los Bandoleros</td>\n",
       "      <td>Action-Drama</td>\n",
       "      <td>en</td>\n",
       "      <td>The film tells the back story about the charac...</td>\n",
       "      <td>None</td>\n",
       "      <td>2009-07-28</td>\n",
       "      <td>None</td>\n",
       "      <td>Vin Diesel-Michelle Rodriguez-Sung Kang-Tego C...</td>\n",
       "      <td>None</td>\n",
       "      <td>6.4</td>\n",
       "    </tr>\n",
       "    <tr>\n",
       "      <th>9638</th>\n",
       "      <td>225703</td>\n",
       "      <td>The Starving Games</td>\n",
       "      <td>4500000.0</td>\n",
       "      <td>0.0</td>\n",
       "      <td>83.0</td>\n",
       "      <td>Released</td>\n",
       "      <td>All the laughs, half the calories</td>\n",
       "      <td>Maiara Walsh-Lauren Bowles-Ashton Leigh-Diedri...</td>\n",
       "      <td>/lrj2BCMUKjIK6yvX24lnuBT5yMc.jpg</td>\n",
       "      <td>/jNPtcaPcAjPs7azPexyTETWBbjK.jpg</td>\n",
       "      <td>...</td>\n",
       "      <td>The Starving Games</td>\n",
       "      <td>Comedy</td>\n",
       "      <td>en</td>\n",
       "      <td>In this Hunger Games spoof Kantmiss Evershot m...</td>\n",
       "      <td>The Safran Company</td>\n",
       "      <td>2013-11-07</td>\n",
       "      <td>All the laughs, half the calories</td>\n",
       "      <td>Maiara Walsh-Lauren Bowles-Ashton Leigh-Diedri...</td>\n",
       "      <td>parody</td>\n",
       "      <td>4.2</td>\n",
       "    </tr>\n",
       "    <tr>\n",
       "      <th>9639</th>\n",
       "      <td>174323</td>\n",
       "      <td>G.B.F.</td>\n",
       "      <td>3200000.0</td>\n",
       "      <td>0.0</td>\n",
       "      <td>93.0</td>\n",
       "      <td>Released</td>\n",
       "      <td>Being out has never been so in.</td>\n",
       "      <td>Michael J. Willett-Paul Iacono-Sasha Pieterse-...</td>\n",
       "      <td>/f4fR1WMgSv7K93ZPoJlPyvaApdE.jpg</td>\n",
       "      <td>/ueciNnNmLLTnXKmm6FtxOHoA2ou.jpg</td>\n",
       "      <td>...</td>\n",
       "      <td>G.B.F.</td>\n",
       "      <td>Comedy-Drama</td>\n",
       "      <td>en</td>\n",
       "      <td>The bitter fight for supremacy between the thr...</td>\n",
       "      <td>School Pictures-Parting Shots Media-Logolite E...</td>\n",
       "      <td>2013-04-19</td>\n",
       "      <td>Being out has never been so in.</td>\n",
       "      <td>Michael J. Willett-Paul Iacono-Sasha Pieterse-...</td>\n",
       "      <td>coming out-high school-friends-best friend-mor...</td>\n",
       "      <td>6.0</td>\n",
       "    </tr>\n",
       "    <tr>\n",
       "      <th>9640</th>\n",
       "      <td>182219</td>\n",
       "      <td>Serial Teachers</td>\n",
       "      <td>12000000.0</td>\n",
       "      <td>0.0</td>\n",
       "      <td>88.0</td>\n",
       "      <td>Released</td>\n",
       "      <td>None</td>\n",
       "      <td>Christian Clavier-Isabelle Nanty-Pierre-Franço...</td>\n",
       "      <td>/59Bi4wtdoxXV9eaPat7em2ahISI.jpg</td>\n",
       "      <td>/akVGOXzNCK9xYY63SvISvVcUWox.jpg</td>\n",
       "      <td>...</td>\n",
       "      <td>Serial Teachers</td>\n",
       "      <td>Comedy</td>\n",
       "      <td>fr</td>\n",
       "      <td>With only 12 percent of its pupils obtaining t...</td>\n",
       "      <td>UGC</td>\n",
       "      <td>2013-04-17</td>\n",
       "      <td>None</td>\n",
       "      <td>Christian Clavier-Isabelle Nanty-Pierre-Franço...</td>\n",
       "      <td>high school-school teacher</td>\n",
       "      <td>5.5</td>\n",
       "    </tr>\n",
       "  </tbody>\n",
       "</table>\n",
       "<p>9641 rows × 21 columns</p>\n",
       "</div>"
      ],
      "text/plain": [
       "          id                                      title_x       budget  \\\n",
       "0     338953  Fantastic Beasts: The Secrets of Dumbledore  200000000.0   \n",
       "1     675353                         Sonic the Hedgehog 2  110000000.0   \n",
       "2     752623                                The Lost City   74000000.0   \n",
       "3     526896                                      Morbius   75000000.0   \n",
       "4     335787                                    Uncharted  120000000.0   \n",
       "...      ...                                          ...          ...   \n",
       "9636  116741                               The Internship   58000000.0   \n",
       "9637  253835                               Los Bandoleros          0.0   \n",
       "9638  225703                           The Starving Games    4500000.0   \n",
       "9639  174323                                       G.B.F.    3200000.0   \n",
       "9640  182219                              Serial Teachers   12000000.0   \n",
       "\n",
       "          revenue  runtime    status  \\\n",
       "0     400000000.0    142.0  Released   \n",
       "1     393000000.0    122.0  Released   \n",
       "2     164289828.0    112.0  Released   \n",
       "3     161000000.0    105.0  Released   \n",
       "4     400780000.0    116.0  Released   \n",
       "...           ...      ...       ...   \n",
       "9636   44000000.0    119.0  Released   \n",
       "9637          0.0     20.0  Released   \n",
       "9638          0.0     83.0  Released   \n",
       "9639          0.0     93.0  Released   \n",
       "9640          0.0     88.0  Released   \n",
       "\n",
       "                                       tagline_x  \\\n",
       "0                           Return to the magic.   \n",
       "1                     Welcome to the next level.   \n",
       "2     The adventure is real. The heroes are not.   \n",
       "3                   A new Marvel legend arrives.   \n",
       "4                       Fortune favors the bold.   \n",
       "...                                          ...   \n",
       "9636        Hiring them was a brilliant mistake.   \n",
       "9637                                        None   \n",
       "9638           All the laughs, half the calories   \n",
       "9639             Being out has never been so in.   \n",
       "9640                                        None   \n",
       "\n",
       "                                              credits_x  \\\n",
       "0     Jude Law-Eddie Redmayne-Mads Mikkelsen-Ezra Mi...   \n",
       "1     James Marsden-Ben Schwartz-Tika Sumpter-Natash...   \n",
       "2     Sandra Bullock-Channing Tatum-Daniel Radcliffe...   \n",
       "3     Jared Leto-Matt Smith-Adria Arjona-Jared Harri...   \n",
       "4     Tom Holland-Mark Wahlberg-Sophia Ali-Tati Gabr...   \n",
       "...                                                 ...   \n",
       "9636  Vince Vaughn-Owen Wilson-Rose Byrne-Aasif Mand...   \n",
       "9637  Vin Diesel-Michelle Rodriguez-Sung Kang-Tego C...   \n",
       "9638  Maiara Walsh-Lauren Bowles-Ashton Leigh-Diedri...   \n",
       "9639  Michael J. Willett-Paul Iacono-Sasha Pieterse-...   \n",
       "9640  Christian Clavier-Isabelle Nanty-Pierre-Franço...   \n",
       "\n",
       "                           poster_path                     backdrop_path  ...  \\\n",
       "0     /jrgifaYeUtTnaH7NF5Drkgjg2MB.jpg  /zGLHX92Gk96O1DJvLil7ObJTbaL.jpg  ...   \n",
       "1      /6DrHO1jr3qVrViUO6s6kFiAGM7.jpg  /egoyMDLqCxzjnSrWOz50uLlJWmD.jpg  ...   \n",
       "2     /neMZH82Stu91d3iqvLdNQfqPPyl.jpg  /1Ds7xy7ILo8u2WWxdnkJth1jQVT.jpg  ...   \n",
       "3     /6JjfSchsU6daXk2AKX8EEBjO3Fm.jpg  /kmCBLNHsNnlDEtghSaF2nabpG2T.jpg  ...   \n",
       "4     /tlZpSxYuBRoVJBOpUrPdQe9FmFq.jpg  /aEGiJJP91HsKVTEPy1HhmN0wRLm.jpg  ...   \n",
       "...                                ...                               ...  ...   \n",
       "9636  /hIh3ZgsZ31nbUAGn5SKIZGKiKCX.jpg  /kms4PhWfP1Q2jidPLOf26qm0paJ.jpg  ...   \n",
       "9637  /rqWRTgjHcmcmeRXE1w1LyYZupwS.jpg  /uijC23zReJLR3xUq3xh41NuI6vG.jpg  ...   \n",
       "9638  /lrj2BCMUKjIK6yvX24lnuBT5yMc.jpg  /jNPtcaPcAjPs7azPexyTETWBbjK.jpg  ...   \n",
       "9639  /f4fR1WMgSv7K93ZPoJlPyvaApdE.jpg  /ueciNnNmLLTnXKmm6FtxOHoA2ou.jpg  ...   \n",
       "9640  /59Bi4wtdoxXV9eaPat7em2ahISI.jpg  /akVGOXzNCK9xYY63SvISvVcUWox.jpg  ...   \n",
       "\n",
       "                                          title_y  \\\n",
       "0     Fantastic Beasts: The Secrets of Dumbledore   \n",
       "1                            Sonic the Hedgehog 2   \n",
       "2                                   The Lost City   \n",
       "3                                         Morbius   \n",
       "4                                       Uncharted   \n",
       "...                                           ...   \n",
       "9636                               The Internship   \n",
       "9637                               Los Bandoleros   \n",
       "9638                           The Starving Games   \n",
       "9639                                       G.B.F.   \n",
       "9640                              Serial Teachers   \n",
       "\n",
       "                              genres original_language  \\\n",
       "0           Fantasy-Adventure-Action                en   \n",
       "1     Action-Adventure-Family-Comedy                en   \n",
       "2            Action-Adventure-Comedy                en   \n",
       "3     Action-Science Fiction-Fantasy                en   \n",
       "4                   Action-Adventure                en   \n",
       "...                              ...               ...   \n",
       "9636                          Comedy                en   \n",
       "9637                    Action-Drama                en   \n",
       "9638                          Comedy                en   \n",
       "9639                    Comedy-Drama                en   \n",
       "9640                          Comedy                fr   \n",
       "\n",
       "                                               overview  \\\n",
       "0     Professor Albus Dumbledore knows the powerful ...   \n",
       "1     After settling in Green Hills Sonic is eager t...   \n",
       "2     A reclusive romance novelist was sure nothing ...   \n",
       "3     Dangerously ill with a rare blood disorder and...   \n",
       "4     A young street-smart Nathan Drake and his wise...   \n",
       "...                                                 ...   \n",
       "9636  Two recently laid-off men in their 40s try to ...   \n",
       "9637  The film tells the back story about the charac...   \n",
       "9638  In this Hunger Games spoof Kantmiss Evershot m...   \n",
       "9639  The bitter fight for supremacy between the thr...   \n",
       "9640  With only 12 percent of its pupils obtaining t...   \n",
       "\n",
       "                                   production_companies release_date  \\\n",
       "0                    Warner Bros. Pictures-Heyday Films   2022-04-06   \n",
       "1     Original Film-Blur Studio-Marza Animation Plan...   2022-03-30   \n",
       "2     Paramount-Fortis Films-3dot Productions-Exhibi...   2022-03-24   \n",
       "3     Columbia Pictures-Avi Arad Productions-Matt To...   2022-03-30   \n",
       "4     Columbia Pictures-Atlas Entertainment-PlayStat...   2022-02-10   \n",
       "...                                                 ...          ...   \n",
       "9636  TSG Entertainment-Regency Enterprises-Wild Wes...   2013-06-07   \n",
       "9637                                               None   2009-07-28   \n",
       "9638                                 The Safran Company   2013-11-07   \n",
       "9639  School Pictures-Parting Shots Media-Logolite E...   2013-04-19   \n",
       "9640                                                UGC   2013-04-17   \n",
       "\n",
       "                                       tagline_y  \\\n",
       "0                           Return to the magic.   \n",
       "1                     Welcome to the next level.   \n",
       "2     The adventure is real. The heroes are not.   \n",
       "3                   A new Marvel legend arrives.   \n",
       "4                       Fortune favors the bold.   \n",
       "...                                          ...   \n",
       "9636        Hiring them was a brilliant mistake.   \n",
       "9637                                        None   \n",
       "9638           All the laughs, half the calories   \n",
       "9639             Being out has never been so in.   \n",
       "9640                                        None   \n",
       "\n",
       "                                              credits_y  \\\n",
       "0     Jude Law-Eddie Redmayne-Mads Mikkelsen-Ezra Mi...   \n",
       "1     James Marsden-Ben Schwartz-Tika Sumpter-Natash...   \n",
       "2     Sandra Bullock-Channing Tatum-Daniel Radcliffe...   \n",
       "3     Jared Leto-Matt Smith-Adria Arjona-Jared Harri...   \n",
       "4     Tom Holland-Mark Wahlberg-Sophia Ali-Tati Gabr...   \n",
       "...                                                 ...   \n",
       "9636  Vince Vaughn-Owen Wilson-Rose Byrne-Aasif Mand...   \n",
       "9637  Vin Diesel-Michelle Rodriguez-Sung Kang-Tego C...   \n",
       "9638  Maiara Walsh-Lauren Bowles-Ashton Leigh-Diedri...   \n",
       "9639  Michael J. Willett-Paul Iacono-Sasha Pieterse-...   \n",
       "9640  Christian Clavier-Isabelle Nanty-Pierre-Franço...   \n",
       "\n",
       "                                               keywords vote_average  \n",
       "0     magic-curse-fantasy world-wizard-magical creat...          6.9  \n",
       "1     sequel-based on video game-hedgehog-live actio...          7.7  \n",
       "2                                  duringcreditsstinger          6.8  \n",
       "3                                vampire-based on comic          6.4  \n",
       "4        treasure-treasure hunt-based on video game-dlb          7.2  \n",
       "...                                                 ...          ...  \n",
       "9636  mattress shop-job interview-rivalry-loss of jo...          6.3  \n",
       "9637                                               None          6.4  \n",
       "9638                                             parody          4.2  \n",
       "9639  coming out-high school-friends-best friend-mor...          6.0  \n",
       "9640                         high school-school teacher          5.5  \n",
       "\n",
       "[9641 rows x 21 columns]"
      ]
     },
     "execution_count": 18,
     "metadata": {},
     "output_type": "execute_result"
    }
   ],
   "source": [
    "train_df = train_numerical.merge(train_text, left_on='id', right_on='id')\n",
    "train_df"
   ]
  },
  {
   "cell_type": "markdown",
   "id": "82df4cc7",
   "metadata": {},
   "source": [
    "El dataset resultante mantiene las 6941 filas, lo cual nos indica que los ids en ambos datasets eran los mismos. Podemos continuar entonces con lo solicitado por enunciado. \n",
    "\n",
    "Comenzamos primero con eliminar las columnas `poster_path`, `backdrop_path` y `recommendations`. Nótese que esto tiene sentido pues las primeras dos corresponden a rutas en algún computador (probablemente desde el que salieron los datos o algún servidor web) a los posters de las películas, pero no tienen sentido en nuestro caso ni aportan información relevante, pues son nombres hasheados (distinto sería si los paths fueran, por ejemplo, \"buenas_peliculas/poster1.png , peliculas_masomenos/poster2.png\"). Para el caso de las recommendations, por otro lado, son números que parecen no tener sentido para el estudio."
   ]
  },
  {
   "cell_type": "code",
   "execution_count": 19,
   "id": "90819aed",
   "metadata": {},
   "outputs": [],
   "source": [
    "train_df = train_df.drop(columns=['poster_path', 'backdrop_path', 'recommendations'])"
   ]
  },
  {
   "cell_type": "markdown",
   "id": "02aa7787",
   "metadata": {},
   "source": [
    "Aplicamos ahora los filtros indicados."
   ]
  },
  {
   "cell_type": "code",
   "execution_count": 20,
   "id": "df28c446",
   "metadata": {},
   "outputs": [
    {
     "data": {
      "text/html": [
       "<div>\n",
       "<style scoped>\n",
       "    .dataframe tbody tr th:only-of-type {\n",
       "        vertical-align: middle;\n",
       "    }\n",
       "\n",
       "    .dataframe tbody tr th {\n",
       "        vertical-align: top;\n",
       "    }\n",
       "\n",
       "    .dataframe thead th {\n",
       "        text-align: right;\n",
       "    }\n",
       "</style>\n",
       "<table border=\"1\" class=\"dataframe\">\n",
       "  <thead>\n",
       "    <tr style=\"text-align: right;\">\n",
       "      <th></th>\n",
       "      <th>id</th>\n",
       "      <th>title_x</th>\n",
       "      <th>budget</th>\n",
       "      <th>revenue</th>\n",
       "      <th>runtime</th>\n",
       "      <th>status</th>\n",
       "      <th>tagline_x</th>\n",
       "      <th>credits_x</th>\n",
       "      <th>title_y</th>\n",
       "      <th>genres</th>\n",
       "      <th>original_language</th>\n",
       "      <th>overview</th>\n",
       "      <th>production_companies</th>\n",
       "      <th>release_date</th>\n",
       "      <th>tagline_y</th>\n",
       "      <th>credits_y</th>\n",
       "      <th>keywords</th>\n",
       "      <th>vote_average</th>\n",
       "    </tr>\n",
       "  </thead>\n",
       "  <tbody>\n",
       "    <tr>\n",
       "      <th>0</th>\n",
       "      <td>338953</td>\n",
       "      <td>Fantastic Beasts: The Secrets of Dumbledore</td>\n",
       "      <td>200000000.0</td>\n",
       "      <td>400000000.0</td>\n",
       "      <td>142.0</td>\n",
       "      <td>Released</td>\n",
       "      <td>Return to the magic.</td>\n",
       "      <td>Jude Law-Eddie Redmayne-Mads Mikkelsen-Ezra Mi...</td>\n",
       "      <td>Fantastic Beasts: The Secrets of Dumbledore</td>\n",
       "      <td>Fantasy-Adventure-Action</td>\n",
       "      <td>en</td>\n",
       "      <td>Professor Albus Dumbledore knows the powerful ...</td>\n",
       "      <td>Warner Bros. Pictures-Heyday Films</td>\n",
       "      <td>2022-04-06</td>\n",
       "      <td>Return to the magic.</td>\n",
       "      <td>Jude Law-Eddie Redmayne-Mads Mikkelsen-Ezra Mi...</td>\n",
       "      <td>magic-curse-fantasy world-wizard-magical creat...</td>\n",
       "      <td>6.9</td>\n",
       "    </tr>\n",
       "    <tr>\n",
       "      <th>1</th>\n",
       "      <td>675353</td>\n",
       "      <td>Sonic the Hedgehog 2</td>\n",
       "      <td>110000000.0</td>\n",
       "      <td>393000000.0</td>\n",
       "      <td>122.0</td>\n",
       "      <td>Released</td>\n",
       "      <td>Welcome to the next level.</td>\n",
       "      <td>James Marsden-Ben Schwartz-Tika Sumpter-Natash...</td>\n",
       "      <td>Sonic the Hedgehog 2</td>\n",
       "      <td>Action-Adventure-Family-Comedy</td>\n",
       "      <td>en</td>\n",
       "      <td>After settling in Green Hills Sonic is eager t...</td>\n",
       "      <td>Original Film-Blur Studio-Marza Animation Plan...</td>\n",
       "      <td>2022-03-30</td>\n",
       "      <td>Welcome to the next level.</td>\n",
       "      <td>James Marsden-Ben Schwartz-Tika Sumpter-Natash...</td>\n",
       "      <td>sequel-based on video game-hedgehog-live actio...</td>\n",
       "      <td>7.7</td>\n",
       "    </tr>\n",
       "    <tr>\n",
       "      <th>2</th>\n",
       "      <td>752623</td>\n",
       "      <td>The Lost City</td>\n",
       "      <td>74000000.0</td>\n",
       "      <td>164289828.0</td>\n",
       "      <td>112.0</td>\n",
       "      <td>Released</td>\n",
       "      <td>The adventure is real. The heroes are not.</td>\n",
       "      <td>Sandra Bullock-Channing Tatum-Daniel Radcliffe...</td>\n",
       "      <td>The Lost City</td>\n",
       "      <td>Action-Adventure-Comedy</td>\n",
       "      <td>en</td>\n",
       "      <td>A reclusive romance novelist was sure nothing ...</td>\n",
       "      <td>Paramount-Fortis Films-3dot Productions-Exhibi...</td>\n",
       "      <td>2022-03-24</td>\n",
       "      <td>The adventure is real. The heroes are not.</td>\n",
       "      <td>Sandra Bullock-Channing Tatum-Daniel Radcliffe...</td>\n",
       "      <td>duringcreditsstinger</td>\n",
       "      <td>6.8</td>\n",
       "    </tr>\n",
       "    <tr>\n",
       "      <th>3</th>\n",
       "      <td>526896</td>\n",
       "      <td>Morbius</td>\n",
       "      <td>75000000.0</td>\n",
       "      <td>161000000.0</td>\n",
       "      <td>105.0</td>\n",
       "      <td>Released</td>\n",
       "      <td>A new Marvel legend arrives.</td>\n",
       "      <td>Jared Leto-Matt Smith-Adria Arjona-Jared Harri...</td>\n",
       "      <td>Morbius</td>\n",
       "      <td>Action-Science Fiction-Fantasy</td>\n",
       "      <td>en</td>\n",
       "      <td>Dangerously ill with a rare blood disorder and...</td>\n",
       "      <td>Columbia Pictures-Avi Arad Productions-Matt To...</td>\n",
       "      <td>2022-03-30</td>\n",
       "      <td>A new Marvel legend arrives.</td>\n",
       "      <td>Jared Leto-Matt Smith-Adria Arjona-Jared Harri...</td>\n",
       "      <td>vampire-based on comic</td>\n",
       "      <td>6.4</td>\n",
       "    </tr>\n",
       "    <tr>\n",
       "      <th>4</th>\n",
       "      <td>335787</td>\n",
       "      <td>Uncharted</td>\n",
       "      <td>120000000.0</td>\n",
       "      <td>400780000.0</td>\n",
       "      <td>116.0</td>\n",
       "      <td>Released</td>\n",
       "      <td>Fortune favors the bold.</td>\n",
       "      <td>Tom Holland-Mark Wahlberg-Sophia Ali-Tati Gabr...</td>\n",
       "      <td>Uncharted</td>\n",
       "      <td>Action-Adventure</td>\n",
       "      <td>en</td>\n",
       "      <td>A young street-smart Nathan Drake and his wise...</td>\n",
       "      <td>Columbia Pictures-Atlas Entertainment-PlayStat...</td>\n",
       "      <td>2022-02-10</td>\n",
       "      <td>Fortune favors the bold.</td>\n",
       "      <td>Tom Holland-Mark Wahlberg-Sophia Ali-Tati Gabr...</td>\n",
       "      <td>treasure-treasure hunt-based on video game-dlb</td>\n",
       "      <td>7.2</td>\n",
       "    </tr>\n",
       "    <tr>\n",
       "      <th>...</th>\n",
       "      <td>...</td>\n",
       "      <td>...</td>\n",
       "      <td>...</td>\n",
       "      <td>...</td>\n",
       "      <td>...</td>\n",
       "      <td>...</td>\n",
       "      <td>...</td>\n",
       "      <td>...</td>\n",
       "      <td>...</td>\n",
       "      <td>...</td>\n",
       "      <td>...</td>\n",
       "      <td>...</td>\n",
       "      <td>...</td>\n",
       "      <td>...</td>\n",
       "      <td>...</td>\n",
       "      <td>...</td>\n",
       "      <td>...</td>\n",
       "      <td>...</td>\n",
       "    </tr>\n",
       "    <tr>\n",
       "      <th>9631</th>\n",
       "      <td>11831</td>\n",
       "      <td>Amistad</td>\n",
       "      <td>36000000.0</td>\n",
       "      <td>44229441.0</td>\n",
       "      <td>155.0</td>\n",
       "      <td>Released</td>\n",
       "      <td>Freedom is not given. It is our right at birth...</td>\n",
       "      <td>Morgan Freeman-Nigel Hawthorne-Anthony Hopkins...</td>\n",
       "      <td>Amistad</td>\n",
       "      <td>Drama-History-Mystery</td>\n",
       "      <td>en</td>\n",
       "      <td>In 1839 the slave ship Amistad set sail from C...</td>\n",
       "      <td>DreamWorks Pictures</td>\n",
       "      <td>1997-12-10</td>\n",
       "      <td>Freedom is not given. It is our right at birth...</td>\n",
       "      <td>Morgan Freeman-Nigel Hawthorne-Anthony Hopkins...</td>\n",
       "      <td>cuba-mutiny-slavery-sentence-historical figure...</td>\n",
       "      <td>7.0</td>\n",
       "    </tr>\n",
       "    <tr>\n",
       "      <th>9632</th>\n",
       "      <td>771</td>\n",
       "      <td>Home Alone</td>\n",
       "      <td>18000000.0</td>\n",
       "      <td>476684675.0</td>\n",
       "      <td>103.0</td>\n",
       "      <td>Released</td>\n",
       "      <td>A family comedy without the family.</td>\n",
       "      <td>Macaulay Culkin-Joe Pesci-Daniel Stern-John He...</td>\n",
       "      <td>Home Alone</td>\n",
       "      <td>Comedy-Family</td>\n",
       "      <td>en</td>\n",
       "      <td>Eight-year-old Kevin McCallister makes the mos...</td>\n",
       "      <td>Hughes Entertainment-20th Century Fox</td>\n",
       "      <td>1990-11-16</td>\n",
       "      <td>A family comedy without the family.</td>\n",
       "      <td>Macaulay Culkin-Joe Pesci-Daniel Stern-John He...</td>\n",
       "      <td>holiday-burglar-slapstick-little boy-family re...</td>\n",
       "      <td>7.4</td>\n",
       "    </tr>\n",
       "    <tr>\n",
       "      <th>9633</th>\n",
       "      <td>182127</td>\n",
       "      <td>Ip Man: The Final Fight</td>\n",
       "      <td>0.0</td>\n",
       "      <td>3967001.0</td>\n",
       "      <td>100.0</td>\n",
       "      <td>Released</td>\n",
       "      <td>None</td>\n",
       "      <td>Anthony Wong-Anita Yuen-Gillian Chung-Jordan C...</td>\n",
       "      <td>Ip Man: The Final Fight</td>\n",
       "      <td>Action-Drama</td>\n",
       "      <td>cn</td>\n",
       "      <td>In postwar Hong Kong legendary Wing Chun grand...</td>\n",
       "      <td>Emperor Motion Pictures-Cinemasia-National Art...</td>\n",
       "      <td>2013-03-22</td>\n",
       "      <td>None</td>\n",
       "      <td>Anthony Wong-Anita Yuen-Gillian Chung-Jordan C...</td>\n",
       "      <td>biography</td>\n",
       "      <td>6.1</td>\n",
       "    </tr>\n",
       "    <tr>\n",
       "      <th>9635</th>\n",
       "      <td>475303</td>\n",
       "      <td>A Rainy Day in New York</td>\n",
       "      <td>25000000.0</td>\n",
       "      <td>23800000.0</td>\n",
       "      <td>92.0</td>\n",
       "      <td>Released</td>\n",
       "      <td>Love In Spring.</td>\n",
       "      <td>Timothée Chalamet-Elle Fanning-Selena Gomez-Ju...</td>\n",
       "      <td>A Rainy Day in New York</td>\n",
       "      <td>Comedy-Romance</td>\n",
       "      <td>en</td>\n",
       "      <td>Two young people arrive in New York to spend a...</td>\n",
       "      <td>Gravier Productions-Perdido Productions-FilmNa...</td>\n",
       "      <td>2019-07-26</td>\n",
       "      <td>Love In Spring.</td>\n",
       "      <td>Timothée Chalamet-Elle Fanning-Selena Gomez-Ju...</td>\n",
       "      <td>new york city</td>\n",
       "      <td>6.5</td>\n",
       "    </tr>\n",
       "    <tr>\n",
       "      <th>9636</th>\n",
       "      <td>116741</td>\n",
       "      <td>The Internship</td>\n",
       "      <td>58000000.0</td>\n",
       "      <td>44000000.0</td>\n",
       "      <td>119.0</td>\n",
       "      <td>Released</td>\n",
       "      <td>Hiring them was a brilliant mistake.</td>\n",
       "      <td>Vince Vaughn-Owen Wilson-Rose Byrne-Aasif Mand...</td>\n",
       "      <td>The Internship</td>\n",
       "      <td>Comedy</td>\n",
       "      <td>en</td>\n",
       "      <td>Two recently laid-off men in their 40s try to ...</td>\n",
       "      <td>TSG Entertainment-Regency Enterprises-Wild Wes...</td>\n",
       "      <td>2013-06-07</td>\n",
       "      <td>Hiring them was a brilliant mistake.</td>\n",
       "      <td>Vince Vaughn-Owen Wilson-Rose Byrne-Aasif Mand...</td>\n",
       "      <td>mattress shop-job interview-rivalry-loss of jo...</td>\n",
       "      <td>6.3</td>\n",
       "    </tr>\n",
       "  </tbody>\n",
       "</table>\n",
       "<p>6451 rows × 18 columns</p>\n",
       "</div>"
      ],
      "text/plain": [
       "          id                                      title_x       budget  \\\n",
       "0     338953  Fantastic Beasts: The Secrets of Dumbledore  200000000.0   \n",
       "1     675353                         Sonic the Hedgehog 2  110000000.0   \n",
       "2     752623                                The Lost City   74000000.0   \n",
       "3     526896                                      Morbius   75000000.0   \n",
       "4     335787                                    Uncharted  120000000.0   \n",
       "...      ...                                          ...          ...   \n",
       "9631   11831                                      Amistad   36000000.0   \n",
       "9632     771                                   Home Alone   18000000.0   \n",
       "9633  182127                      Ip Man: The Final Fight          0.0   \n",
       "9635  475303                      A Rainy Day in New York   25000000.0   \n",
       "9636  116741                               The Internship   58000000.0   \n",
       "\n",
       "          revenue  runtime    status  \\\n",
       "0     400000000.0    142.0  Released   \n",
       "1     393000000.0    122.0  Released   \n",
       "2     164289828.0    112.0  Released   \n",
       "3     161000000.0    105.0  Released   \n",
       "4     400780000.0    116.0  Released   \n",
       "...           ...      ...       ...   \n",
       "9631   44229441.0    155.0  Released   \n",
       "9632  476684675.0    103.0  Released   \n",
       "9633    3967001.0    100.0  Released   \n",
       "9635   23800000.0     92.0  Released   \n",
       "9636   44000000.0    119.0  Released   \n",
       "\n",
       "                                              tagline_x  \\\n",
       "0                                  Return to the magic.   \n",
       "1                            Welcome to the next level.   \n",
       "2            The adventure is real. The heroes are not.   \n",
       "3                          A new Marvel legend arrives.   \n",
       "4                              Fortune favors the bold.   \n",
       "...                                                 ...   \n",
       "9631  Freedom is not given. It is our right at birth...   \n",
       "9632                A family comedy without the family.   \n",
       "9633                                               None   \n",
       "9635                                    Love In Spring.   \n",
       "9636               Hiring them was a brilliant mistake.   \n",
       "\n",
       "                                              credits_x  \\\n",
       "0     Jude Law-Eddie Redmayne-Mads Mikkelsen-Ezra Mi...   \n",
       "1     James Marsden-Ben Schwartz-Tika Sumpter-Natash...   \n",
       "2     Sandra Bullock-Channing Tatum-Daniel Radcliffe...   \n",
       "3     Jared Leto-Matt Smith-Adria Arjona-Jared Harri...   \n",
       "4     Tom Holland-Mark Wahlberg-Sophia Ali-Tati Gabr...   \n",
       "...                                                 ...   \n",
       "9631  Morgan Freeman-Nigel Hawthorne-Anthony Hopkins...   \n",
       "9632  Macaulay Culkin-Joe Pesci-Daniel Stern-John He...   \n",
       "9633  Anthony Wong-Anita Yuen-Gillian Chung-Jordan C...   \n",
       "9635  Timothée Chalamet-Elle Fanning-Selena Gomez-Ju...   \n",
       "9636  Vince Vaughn-Owen Wilson-Rose Byrne-Aasif Mand...   \n",
       "\n",
       "                                          title_y  \\\n",
       "0     Fantastic Beasts: The Secrets of Dumbledore   \n",
       "1                            Sonic the Hedgehog 2   \n",
       "2                                   The Lost City   \n",
       "3                                         Morbius   \n",
       "4                                       Uncharted   \n",
       "...                                           ...   \n",
       "9631                                      Amistad   \n",
       "9632                                   Home Alone   \n",
       "9633                      Ip Man: The Final Fight   \n",
       "9635                      A Rainy Day in New York   \n",
       "9636                               The Internship   \n",
       "\n",
       "                              genres original_language  \\\n",
       "0           Fantasy-Adventure-Action                en   \n",
       "1     Action-Adventure-Family-Comedy                en   \n",
       "2            Action-Adventure-Comedy                en   \n",
       "3     Action-Science Fiction-Fantasy                en   \n",
       "4                   Action-Adventure                en   \n",
       "...                              ...               ...   \n",
       "9631           Drama-History-Mystery                en   \n",
       "9632                   Comedy-Family                en   \n",
       "9633                    Action-Drama                cn   \n",
       "9635                  Comedy-Romance                en   \n",
       "9636                          Comedy                en   \n",
       "\n",
       "                                               overview  \\\n",
       "0     Professor Albus Dumbledore knows the powerful ...   \n",
       "1     After settling in Green Hills Sonic is eager t...   \n",
       "2     A reclusive romance novelist was sure nothing ...   \n",
       "3     Dangerously ill with a rare blood disorder and...   \n",
       "4     A young street-smart Nathan Drake and his wise...   \n",
       "...                                                 ...   \n",
       "9631  In 1839 the slave ship Amistad set sail from C...   \n",
       "9632  Eight-year-old Kevin McCallister makes the mos...   \n",
       "9633  In postwar Hong Kong legendary Wing Chun grand...   \n",
       "9635  Two young people arrive in New York to spend a...   \n",
       "9636  Two recently laid-off men in their 40s try to ...   \n",
       "\n",
       "                                   production_companies release_date  \\\n",
       "0                    Warner Bros. Pictures-Heyday Films   2022-04-06   \n",
       "1     Original Film-Blur Studio-Marza Animation Plan...   2022-03-30   \n",
       "2     Paramount-Fortis Films-3dot Productions-Exhibi...   2022-03-24   \n",
       "3     Columbia Pictures-Avi Arad Productions-Matt To...   2022-03-30   \n",
       "4     Columbia Pictures-Atlas Entertainment-PlayStat...   2022-02-10   \n",
       "...                                                 ...          ...   \n",
       "9631                                DreamWorks Pictures   1997-12-10   \n",
       "9632              Hughes Entertainment-20th Century Fox   1990-11-16   \n",
       "9633  Emperor Motion Pictures-Cinemasia-National Art...   2013-03-22   \n",
       "9635  Gravier Productions-Perdido Productions-FilmNa...   2019-07-26   \n",
       "9636  TSG Entertainment-Regency Enterprises-Wild Wes...   2013-06-07   \n",
       "\n",
       "                                              tagline_y  \\\n",
       "0                                  Return to the magic.   \n",
       "1                            Welcome to the next level.   \n",
       "2            The adventure is real. The heroes are not.   \n",
       "3                          A new Marvel legend arrives.   \n",
       "4                              Fortune favors the bold.   \n",
       "...                                                 ...   \n",
       "9631  Freedom is not given. It is our right at birth...   \n",
       "9632                A family comedy without the family.   \n",
       "9633                                               None   \n",
       "9635                                    Love In Spring.   \n",
       "9636               Hiring them was a brilliant mistake.   \n",
       "\n",
       "                                              credits_y  \\\n",
       "0     Jude Law-Eddie Redmayne-Mads Mikkelsen-Ezra Mi...   \n",
       "1     James Marsden-Ben Schwartz-Tika Sumpter-Natash...   \n",
       "2     Sandra Bullock-Channing Tatum-Daniel Radcliffe...   \n",
       "3     Jared Leto-Matt Smith-Adria Arjona-Jared Harri...   \n",
       "4     Tom Holland-Mark Wahlberg-Sophia Ali-Tati Gabr...   \n",
       "...                                                 ...   \n",
       "9631  Morgan Freeman-Nigel Hawthorne-Anthony Hopkins...   \n",
       "9632  Macaulay Culkin-Joe Pesci-Daniel Stern-John He...   \n",
       "9633  Anthony Wong-Anita Yuen-Gillian Chung-Jordan C...   \n",
       "9635  Timothée Chalamet-Elle Fanning-Selena Gomez-Ju...   \n",
       "9636  Vince Vaughn-Owen Wilson-Rose Byrne-Aasif Mand...   \n",
       "\n",
       "                                               keywords  vote_average  \n",
       "0     magic-curse-fantasy world-wizard-magical creat...           6.9  \n",
       "1     sequel-based on video game-hedgehog-live actio...           7.7  \n",
       "2                                  duringcreditsstinger           6.8  \n",
       "3                                vampire-based on comic           6.4  \n",
       "4        treasure-treasure hunt-based on video game-dlb           7.2  \n",
       "...                                                 ...           ...  \n",
       "9631  cuba-mutiny-slavery-sentence-historical figure...           7.0  \n",
       "9632  holiday-burglar-slapstick-little boy-family re...           7.4  \n",
       "9633                                          biography           6.1  \n",
       "9635                                      new york city           6.5  \n",
       "9636  mattress shop-job interview-rivalry-loss of jo...           6.3  \n",
       "\n",
       "[6451 rows x 18 columns]"
      ]
     },
     "execution_count": 20,
     "metadata": {},
     "output_type": "execute_result"
    }
   ],
   "source": [
    "train_df = train_df.loc[(train_df['revenue'] != 0)]\n",
    "train_df"
   ]
  },
  {
   "cell_type": "markdown",
   "id": "0d5d692a",
   "metadata": {},
   "source": [
    "Pasamos de 9641 a 6551 filas, es decir, perdimos casi un tercio de las entradas. Veamos cómo nos va ahora al filtrar aquellas con `release_date` y `runtime` nulos."
   ]
  },
  {
   "cell_type": "code",
   "execution_count": 17,
   "id": "05b75afb",
   "metadata": {},
   "outputs": [
    {
     "data": {
      "text/html": [
       "<div>\n",
       "<style scoped>\n",
       "    .dataframe tbody tr th:only-of-type {\n",
       "        vertical-align: middle;\n",
       "    }\n",
       "\n",
       "    .dataframe tbody tr th {\n",
       "        vertical-align: top;\n",
       "    }\n",
       "\n",
       "    .dataframe thead th {\n",
       "        text-align: right;\n",
       "    }\n",
       "</style>\n",
       "<table border=\"1\" class=\"dataframe\">\n",
       "  <thead>\n",
       "    <tr style=\"text-align: right;\">\n",
       "      <th></th>\n",
       "      <th>id</th>\n",
       "      <th>title_x</th>\n",
       "      <th>budget</th>\n",
       "      <th>revenue</th>\n",
       "      <th>runtime</th>\n",
       "      <th>status</th>\n",
       "      <th>tagline_x</th>\n",
       "      <th>credits_x</th>\n",
       "      <th>title_y</th>\n",
       "      <th>genres</th>\n",
       "      <th>original_language</th>\n",
       "      <th>overview</th>\n",
       "      <th>production_companies</th>\n",
       "      <th>release_date</th>\n",
       "      <th>tagline_y</th>\n",
       "      <th>credits_y</th>\n",
       "      <th>keywords</th>\n",
       "      <th>vote_average</th>\n",
       "    </tr>\n",
       "  </thead>\n",
       "  <tbody>\n",
       "    <tr>\n",
       "      <th>0</th>\n",
       "      <td>338953</td>\n",
       "      <td>Fantastic Beasts: The Secrets of Dumbledore</td>\n",
       "      <td>200000000.0</td>\n",
       "      <td>400000000.0</td>\n",
       "      <td>142.0</td>\n",
       "      <td>Released</td>\n",
       "      <td>Return to the magic.</td>\n",
       "      <td>Jude Law-Eddie Redmayne-Mads Mikkelsen-Ezra Mi...</td>\n",
       "      <td>Fantastic Beasts: The Secrets of Dumbledore</td>\n",
       "      <td>Fantasy-Adventure-Action</td>\n",
       "      <td>en</td>\n",
       "      <td>Professor Albus Dumbledore knows the powerful ...</td>\n",
       "      <td>Warner Bros. Pictures-Heyday Films</td>\n",
       "      <td>2022-04-06</td>\n",
       "      <td>Return to the magic.</td>\n",
       "      <td>Jude Law-Eddie Redmayne-Mads Mikkelsen-Ezra Mi...</td>\n",
       "      <td>magic-curse-fantasy world-wizard-magical creat...</td>\n",
       "      <td>6.9</td>\n",
       "    </tr>\n",
       "    <tr>\n",
       "      <th>1</th>\n",
       "      <td>675353</td>\n",
       "      <td>Sonic the Hedgehog 2</td>\n",
       "      <td>110000000.0</td>\n",
       "      <td>393000000.0</td>\n",
       "      <td>122.0</td>\n",
       "      <td>Released</td>\n",
       "      <td>Welcome to the next level.</td>\n",
       "      <td>James Marsden-Ben Schwartz-Tika Sumpter-Natash...</td>\n",
       "      <td>Sonic the Hedgehog 2</td>\n",
       "      <td>Action-Adventure-Family-Comedy</td>\n",
       "      <td>en</td>\n",
       "      <td>After settling in Green Hills Sonic is eager t...</td>\n",
       "      <td>Original Film-Blur Studio-Marza Animation Plan...</td>\n",
       "      <td>2022-03-30</td>\n",
       "      <td>Welcome to the next level.</td>\n",
       "      <td>James Marsden-Ben Schwartz-Tika Sumpter-Natash...</td>\n",
       "      <td>sequel-based on video game-hedgehog-live actio...</td>\n",
       "      <td>7.7</td>\n",
       "    </tr>\n",
       "    <tr>\n",
       "      <th>2</th>\n",
       "      <td>752623</td>\n",
       "      <td>The Lost City</td>\n",
       "      <td>74000000.0</td>\n",
       "      <td>164289828.0</td>\n",
       "      <td>112.0</td>\n",
       "      <td>Released</td>\n",
       "      <td>The adventure is real. The heroes are not.</td>\n",
       "      <td>Sandra Bullock-Channing Tatum-Daniel Radcliffe...</td>\n",
       "      <td>The Lost City</td>\n",
       "      <td>Action-Adventure-Comedy</td>\n",
       "      <td>en</td>\n",
       "      <td>A reclusive romance novelist was sure nothing ...</td>\n",
       "      <td>Paramount-Fortis Films-3dot Productions-Exhibi...</td>\n",
       "      <td>2022-03-24</td>\n",
       "      <td>The adventure is real. The heroes are not.</td>\n",
       "      <td>Sandra Bullock-Channing Tatum-Daniel Radcliffe...</td>\n",
       "      <td>duringcreditsstinger</td>\n",
       "      <td>6.8</td>\n",
       "    </tr>\n",
       "    <tr>\n",
       "      <th>3</th>\n",
       "      <td>526896</td>\n",
       "      <td>Morbius</td>\n",
       "      <td>75000000.0</td>\n",
       "      <td>161000000.0</td>\n",
       "      <td>105.0</td>\n",
       "      <td>Released</td>\n",
       "      <td>A new Marvel legend arrives.</td>\n",
       "      <td>Jared Leto-Matt Smith-Adria Arjona-Jared Harri...</td>\n",
       "      <td>Morbius</td>\n",
       "      <td>Action-Science Fiction-Fantasy</td>\n",
       "      <td>en</td>\n",
       "      <td>Dangerously ill with a rare blood disorder and...</td>\n",
       "      <td>Columbia Pictures-Avi Arad Productions-Matt To...</td>\n",
       "      <td>2022-03-30</td>\n",
       "      <td>A new Marvel legend arrives.</td>\n",
       "      <td>Jared Leto-Matt Smith-Adria Arjona-Jared Harri...</td>\n",
       "      <td>vampire-based on comic</td>\n",
       "      <td>6.4</td>\n",
       "    </tr>\n",
       "    <tr>\n",
       "      <th>4</th>\n",
       "      <td>335787</td>\n",
       "      <td>Uncharted</td>\n",
       "      <td>120000000.0</td>\n",
       "      <td>400780000.0</td>\n",
       "      <td>116.0</td>\n",
       "      <td>Released</td>\n",
       "      <td>Fortune favors the bold.</td>\n",
       "      <td>Tom Holland-Mark Wahlberg-Sophia Ali-Tati Gabr...</td>\n",
       "      <td>Uncharted</td>\n",
       "      <td>Action-Adventure</td>\n",
       "      <td>en</td>\n",
       "      <td>A young street-smart Nathan Drake and his wise...</td>\n",
       "      <td>Columbia Pictures-Atlas Entertainment-PlayStat...</td>\n",
       "      <td>2022-02-10</td>\n",
       "      <td>Fortune favors the bold.</td>\n",
       "      <td>Tom Holland-Mark Wahlberg-Sophia Ali-Tati Gabr...</td>\n",
       "      <td>treasure-treasure hunt-based on video game-dlb</td>\n",
       "      <td>7.2</td>\n",
       "    </tr>\n",
       "    <tr>\n",
       "      <th>...</th>\n",
       "      <td>...</td>\n",
       "      <td>...</td>\n",
       "      <td>...</td>\n",
       "      <td>...</td>\n",
       "      <td>...</td>\n",
       "      <td>...</td>\n",
       "      <td>...</td>\n",
       "      <td>...</td>\n",
       "      <td>...</td>\n",
       "      <td>...</td>\n",
       "      <td>...</td>\n",
       "      <td>...</td>\n",
       "      <td>...</td>\n",
       "      <td>...</td>\n",
       "      <td>...</td>\n",
       "      <td>...</td>\n",
       "      <td>...</td>\n",
       "      <td>...</td>\n",
       "    </tr>\n",
       "    <tr>\n",
       "      <th>9631</th>\n",
       "      <td>11831</td>\n",
       "      <td>Amistad</td>\n",
       "      <td>36000000.0</td>\n",
       "      <td>44229441.0</td>\n",
       "      <td>155.0</td>\n",
       "      <td>Released</td>\n",
       "      <td>Freedom is not given. It is our right at birth...</td>\n",
       "      <td>Morgan Freeman-Nigel Hawthorne-Anthony Hopkins...</td>\n",
       "      <td>Amistad</td>\n",
       "      <td>Drama-History-Mystery</td>\n",
       "      <td>en</td>\n",
       "      <td>In 1839 the slave ship Amistad set sail from C...</td>\n",
       "      <td>DreamWorks Pictures</td>\n",
       "      <td>1997-12-10</td>\n",
       "      <td>Freedom is not given. It is our right at birth...</td>\n",
       "      <td>Morgan Freeman-Nigel Hawthorne-Anthony Hopkins...</td>\n",
       "      <td>cuba-mutiny-slavery-sentence-historical figure...</td>\n",
       "      <td>7.0</td>\n",
       "    </tr>\n",
       "    <tr>\n",
       "      <th>9632</th>\n",
       "      <td>771</td>\n",
       "      <td>Home Alone</td>\n",
       "      <td>18000000.0</td>\n",
       "      <td>476684675.0</td>\n",
       "      <td>103.0</td>\n",
       "      <td>Released</td>\n",
       "      <td>A family comedy without the family.</td>\n",
       "      <td>Macaulay Culkin-Joe Pesci-Daniel Stern-John He...</td>\n",
       "      <td>Home Alone</td>\n",
       "      <td>Comedy-Family</td>\n",
       "      <td>en</td>\n",
       "      <td>Eight-year-old Kevin McCallister makes the mos...</td>\n",
       "      <td>Hughes Entertainment-20th Century Fox</td>\n",
       "      <td>1990-11-16</td>\n",
       "      <td>A family comedy without the family.</td>\n",
       "      <td>Macaulay Culkin-Joe Pesci-Daniel Stern-John He...</td>\n",
       "      <td>holiday-burglar-slapstick-little boy-family re...</td>\n",
       "      <td>7.4</td>\n",
       "    </tr>\n",
       "    <tr>\n",
       "      <th>9633</th>\n",
       "      <td>182127</td>\n",
       "      <td>Ip Man: The Final Fight</td>\n",
       "      <td>0.0</td>\n",
       "      <td>3967001.0</td>\n",
       "      <td>100.0</td>\n",
       "      <td>Released</td>\n",
       "      <td>None</td>\n",
       "      <td>Anthony Wong-Anita Yuen-Gillian Chung-Jordan C...</td>\n",
       "      <td>Ip Man: The Final Fight</td>\n",
       "      <td>Action-Drama</td>\n",
       "      <td>cn</td>\n",
       "      <td>In postwar Hong Kong legendary Wing Chun grand...</td>\n",
       "      <td>Emperor Motion Pictures-Cinemasia-National Art...</td>\n",
       "      <td>2013-03-22</td>\n",
       "      <td>None</td>\n",
       "      <td>Anthony Wong-Anita Yuen-Gillian Chung-Jordan C...</td>\n",
       "      <td>biography</td>\n",
       "      <td>6.1</td>\n",
       "    </tr>\n",
       "    <tr>\n",
       "      <th>9635</th>\n",
       "      <td>475303</td>\n",
       "      <td>A Rainy Day in New York</td>\n",
       "      <td>25000000.0</td>\n",
       "      <td>23800000.0</td>\n",
       "      <td>92.0</td>\n",
       "      <td>Released</td>\n",
       "      <td>Love In Spring.</td>\n",
       "      <td>Timothée Chalamet-Elle Fanning-Selena Gomez-Ju...</td>\n",
       "      <td>A Rainy Day in New York</td>\n",
       "      <td>Comedy-Romance</td>\n",
       "      <td>en</td>\n",
       "      <td>Two young people arrive in New York to spend a...</td>\n",
       "      <td>Gravier Productions-Perdido Productions-FilmNa...</td>\n",
       "      <td>2019-07-26</td>\n",
       "      <td>Love In Spring.</td>\n",
       "      <td>Timothée Chalamet-Elle Fanning-Selena Gomez-Ju...</td>\n",
       "      <td>new york city</td>\n",
       "      <td>6.5</td>\n",
       "    </tr>\n",
       "    <tr>\n",
       "      <th>9636</th>\n",
       "      <td>116741</td>\n",
       "      <td>The Internship</td>\n",
       "      <td>58000000.0</td>\n",
       "      <td>44000000.0</td>\n",
       "      <td>119.0</td>\n",
       "      <td>Released</td>\n",
       "      <td>Hiring them was a brilliant mistake.</td>\n",
       "      <td>Vince Vaughn-Owen Wilson-Rose Byrne-Aasif Mand...</td>\n",
       "      <td>The Internship</td>\n",
       "      <td>Comedy</td>\n",
       "      <td>en</td>\n",
       "      <td>Two recently laid-off men in their 40s try to ...</td>\n",
       "      <td>TSG Entertainment-Regency Enterprises-Wild Wes...</td>\n",
       "      <td>2013-06-07</td>\n",
       "      <td>Hiring them was a brilliant mistake.</td>\n",
       "      <td>Vince Vaughn-Owen Wilson-Rose Byrne-Aasif Mand...</td>\n",
       "      <td>mattress shop-job interview-rivalry-loss of jo...</td>\n",
       "      <td>6.3</td>\n",
       "    </tr>\n",
       "  </tbody>\n",
       "</table>\n",
       "<p>6451 rows × 18 columns</p>\n",
       "</div>"
      ],
      "text/plain": [
       "          id                                      title_x       budget  \\\n",
       "0     338953  Fantastic Beasts: The Secrets of Dumbledore  200000000.0   \n",
       "1     675353                         Sonic the Hedgehog 2  110000000.0   \n",
       "2     752623                                The Lost City   74000000.0   \n",
       "3     526896                                      Morbius   75000000.0   \n",
       "4     335787                                    Uncharted  120000000.0   \n",
       "...      ...                                          ...          ...   \n",
       "9631   11831                                      Amistad   36000000.0   \n",
       "9632     771                                   Home Alone   18000000.0   \n",
       "9633  182127                      Ip Man: The Final Fight          0.0   \n",
       "9635  475303                      A Rainy Day in New York   25000000.0   \n",
       "9636  116741                               The Internship   58000000.0   \n",
       "\n",
       "          revenue  runtime    status  \\\n",
       "0     400000000.0    142.0  Released   \n",
       "1     393000000.0    122.0  Released   \n",
       "2     164289828.0    112.0  Released   \n",
       "3     161000000.0    105.0  Released   \n",
       "4     400780000.0    116.0  Released   \n",
       "...           ...      ...       ...   \n",
       "9631   44229441.0    155.0  Released   \n",
       "9632  476684675.0    103.0  Released   \n",
       "9633    3967001.0    100.0  Released   \n",
       "9635   23800000.0     92.0  Released   \n",
       "9636   44000000.0    119.0  Released   \n",
       "\n",
       "                                              tagline_x  \\\n",
       "0                                  Return to the magic.   \n",
       "1                            Welcome to the next level.   \n",
       "2            The adventure is real. The heroes are not.   \n",
       "3                          A new Marvel legend arrives.   \n",
       "4                              Fortune favors the bold.   \n",
       "...                                                 ...   \n",
       "9631  Freedom is not given. It is our right at birth...   \n",
       "9632                A family comedy without the family.   \n",
       "9633                                               None   \n",
       "9635                                    Love In Spring.   \n",
       "9636               Hiring them was a brilliant mistake.   \n",
       "\n",
       "                                              credits_x  \\\n",
       "0     Jude Law-Eddie Redmayne-Mads Mikkelsen-Ezra Mi...   \n",
       "1     James Marsden-Ben Schwartz-Tika Sumpter-Natash...   \n",
       "2     Sandra Bullock-Channing Tatum-Daniel Radcliffe...   \n",
       "3     Jared Leto-Matt Smith-Adria Arjona-Jared Harri...   \n",
       "4     Tom Holland-Mark Wahlberg-Sophia Ali-Tati Gabr...   \n",
       "...                                                 ...   \n",
       "9631  Morgan Freeman-Nigel Hawthorne-Anthony Hopkins...   \n",
       "9632  Macaulay Culkin-Joe Pesci-Daniel Stern-John He...   \n",
       "9633  Anthony Wong-Anita Yuen-Gillian Chung-Jordan C...   \n",
       "9635  Timothée Chalamet-Elle Fanning-Selena Gomez-Ju...   \n",
       "9636  Vince Vaughn-Owen Wilson-Rose Byrne-Aasif Mand...   \n",
       "\n",
       "                                          title_y  \\\n",
       "0     Fantastic Beasts: The Secrets of Dumbledore   \n",
       "1                            Sonic the Hedgehog 2   \n",
       "2                                   The Lost City   \n",
       "3                                         Morbius   \n",
       "4                                       Uncharted   \n",
       "...                                           ...   \n",
       "9631                                      Amistad   \n",
       "9632                                   Home Alone   \n",
       "9633                      Ip Man: The Final Fight   \n",
       "9635                      A Rainy Day in New York   \n",
       "9636                               The Internship   \n",
       "\n",
       "                              genres original_language  \\\n",
       "0           Fantasy-Adventure-Action                en   \n",
       "1     Action-Adventure-Family-Comedy                en   \n",
       "2            Action-Adventure-Comedy                en   \n",
       "3     Action-Science Fiction-Fantasy                en   \n",
       "4                   Action-Adventure                en   \n",
       "...                              ...               ...   \n",
       "9631           Drama-History-Mystery                en   \n",
       "9632                   Comedy-Family                en   \n",
       "9633                    Action-Drama                cn   \n",
       "9635                  Comedy-Romance                en   \n",
       "9636                          Comedy                en   \n",
       "\n",
       "                                               overview  \\\n",
       "0     Professor Albus Dumbledore knows the powerful ...   \n",
       "1     After settling in Green Hills Sonic is eager t...   \n",
       "2     A reclusive romance novelist was sure nothing ...   \n",
       "3     Dangerously ill with a rare blood disorder and...   \n",
       "4     A young street-smart Nathan Drake and his wise...   \n",
       "...                                                 ...   \n",
       "9631  In 1839 the slave ship Amistad set sail from C...   \n",
       "9632  Eight-year-old Kevin McCallister makes the mos...   \n",
       "9633  In postwar Hong Kong legendary Wing Chun grand...   \n",
       "9635  Two young people arrive in New York to spend a...   \n",
       "9636  Two recently laid-off men in their 40s try to ...   \n",
       "\n",
       "                                   production_companies release_date  \\\n",
       "0                    Warner Bros. Pictures-Heyday Films   2022-04-06   \n",
       "1     Original Film-Blur Studio-Marza Animation Plan...   2022-03-30   \n",
       "2     Paramount-Fortis Films-3dot Productions-Exhibi...   2022-03-24   \n",
       "3     Columbia Pictures-Avi Arad Productions-Matt To...   2022-03-30   \n",
       "4     Columbia Pictures-Atlas Entertainment-PlayStat...   2022-02-10   \n",
       "...                                                 ...          ...   \n",
       "9631                                DreamWorks Pictures   1997-12-10   \n",
       "9632              Hughes Entertainment-20th Century Fox   1990-11-16   \n",
       "9633  Emperor Motion Pictures-Cinemasia-National Art...   2013-03-22   \n",
       "9635  Gravier Productions-Perdido Productions-FilmNa...   2019-07-26   \n",
       "9636  TSG Entertainment-Regency Enterprises-Wild Wes...   2013-06-07   \n",
       "\n",
       "                                              tagline_y  \\\n",
       "0                                  Return to the magic.   \n",
       "1                            Welcome to the next level.   \n",
       "2            The adventure is real. The heroes are not.   \n",
       "3                          A new Marvel legend arrives.   \n",
       "4                              Fortune favors the bold.   \n",
       "...                                                 ...   \n",
       "9631  Freedom is not given. It is our right at birth...   \n",
       "9632                A family comedy without the family.   \n",
       "9633                                               None   \n",
       "9635                                    Love In Spring.   \n",
       "9636               Hiring them was a brilliant mistake.   \n",
       "\n",
       "                                              credits_y  \\\n",
       "0     Jude Law-Eddie Redmayne-Mads Mikkelsen-Ezra Mi...   \n",
       "1     James Marsden-Ben Schwartz-Tika Sumpter-Natash...   \n",
       "2     Sandra Bullock-Channing Tatum-Daniel Radcliffe...   \n",
       "3     Jared Leto-Matt Smith-Adria Arjona-Jared Harri...   \n",
       "4     Tom Holland-Mark Wahlberg-Sophia Ali-Tati Gabr...   \n",
       "...                                                 ...   \n",
       "9631  Morgan Freeman-Nigel Hawthorne-Anthony Hopkins...   \n",
       "9632  Macaulay Culkin-Joe Pesci-Daniel Stern-John He...   \n",
       "9633  Anthony Wong-Anita Yuen-Gillian Chung-Jordan C...   \n",
       "9635  Timothée Chalamet-Elle Fanning-Selena Gomez-Ju...   \n",
       "9636  Vince Vaughn-Owen Wilson-Rose Byrne-Aasif Mand...   \n",
       "\n",
       "                                               keywords  vote_average  \n",
       "0     magic-curse-fantasy world-wizard-magical creat...           6.9  \n",
       "1     sequel-based on video game-hedgehog-live actio...           7.7  \n",
       "2                                  duringcreditsstinger           6.8  \n",
       "3                                vampire-based on comic           6.4  \n",
       "4        treasure-treasure hunt-based on video game-dlb           7.2  \n",
       "...                                                 ...           ...  \n",
       "9631  cuba-mutiny-slavery-sentence-historical figure...           7.0  \n",
       "9632  holiday-burglar-slapstick-little boy-family re...           7.4  \n",
       "9633                                          biography           6.1  \n",
       "9635                                      new york city           6.5  \n",
       "9636  mattress shop-job interview-rivalry-loss of jo...           6.3  \n",
       "\n",
       "[6451 rows x 18 columns]"
      ]
     },
     "execution_count": 17,
     "metadata": {},
     "output_type": "execute_result"
    }
   ],
   "source": [
    "train_df = train_df.loc[(train_df.release_date.notnull()) \n",
    "                        & (train_df.runtime.notnull())]\n",
    "train_df"
   ]
  },
  {
   "cell_type": "markdown",
   "id": "c1d33334",
   "metadata": {},
   "source": [
    "Mantenemos la misma cantidad de filas: las entradas con runtime y release_date nulos se fueron con el filtro previo. Encarguémonos ahora de convertir release date a DateTime."
   ]
  },
  {
   "cell_type": "code",
   "execution_count": 24,
   "id": "ae43fee6",
   "metadata": {},
   "outputs": [],
   "source": [
    "train_df['release_date'] = pd.to_datetime(train_df['release_date'])"
   ]
  },
  {
   "cell_type": "markdown",
   "id": "330263d3",
   "metadata": {},
   "source": [
    "...Filtremos ahora solo aquellas películas con status `Released`."
   ]
  },
  {
   "cell_type": "code",
   "execution_count": 27,
   "id": "24401ed9",
   "metadata": {},
   "outputs": [],
   "source": [
    "train_df = train_df.loc[(train_df.status == \"Released\")]"
   ]
  },
  {
   "cell_type": "markdown",
   "id": "137a7488",
   "metadata": {},
   "source": [
    "Rellenemos también los atributos nulos categóricos y de texto con el string vacío."
   ]
  },
  {
   "cell_type": "code",
   "execution_count": 33,
   "id": "f9e69c8c",
   "metadata": {},
   "outputs": [
    {
     "data": {
      "text/plain": [
       "id                               int64\n",
       "title_x                         object\n",
       "budget                         float64\n",
       "revenue                        float64\n",
       "runtime                        float64\n",
       "status                          object\n",
       "tagline_x                       object\n",
       "credits_x                       object\n",
       "title_y                         object\n",
       "genres                          object\n",
       "original_language               object\n",
       "overview                        object\n",
       "production_companies            object\n",
       "release_date            datetime64[ns]\n",
       "tagline_y                       object\n",
       "credits_y                       object\n",
       "keywords                        object\n",
       "vote_average                   float64\n",
       "dtype: object"
      ]
     },
     "execution_count": 33,
     "metadata": {},
     "output_type": "execute_result"
    }
   ],
   "source": [
    "train_df.dtypes"
   ]
  },
  {
   "cell_type": "code",
   "execution_count": 47,
   "id": "3985df48",
   "metadata": {
    "scrolled": true
   },
   "outputs": [
    {
     "data": {
      "text/plain": [
       "array([ True,  True,  True,  True,  True,  True,  True,  True,  True,\n",
       "        True,  True,  True,  True,  True])"
      ]
     },
     "execution_count": 47,
     "metadata": {},
     "output_type": "execute_result"
    }
   ],
   "source": [
    "cols = train_df.columns[train_df.dtypes != \"float64\"]\n",
    "cols = cols[cols != \"int64\"\n",
    "cols"
   ]
  },
  {
   "cell_type": "markdown",
   "id": "66905372",
   "metadata": {},
   "source": [
    "### 2.2 Análisis Exploratorio de Datos"
   ]
  },
  {
   "cell_type": "code",
   "execution_count": null,
   "id": "4e18c647",
   "metadata": {
    "cell_id": "051fb133d1264c4dab1de21415aa18b6",
    "deepnote_cell_height": 66,
    "deepnote_cell_type": "code",
    "pycharm": {
     "name": "#%%\n"
    },
    "tags": []
   },
   "outputs": [],
   "source": [
    "## Código EDA"
   ]
  },
  {
   "cell_type": "markdown",
   "id": "771159f7",
   "metadata": {
    "cell_id": "6dfb65f58341449fb33eb025db788790",
    "deepnote_cell_height": 69.93333435058594,
    "deepnote_cell_type": "markdown",
    "pycharm": {
     "name": "#%% md\n"
    },
    "tags": []
   },
   "source": [
    "```\n",
    "Análisis del EDA.\n",
    "```"
   ]
  },
  {
   "cell_type": "markdown",
   "id": "e2997cec",
   "metadata": {
    "cell_id": "00011-95957584-71f1-4669-a6e5-9b8ac7b8d4e0",
    "deepnote_cell_height": 69.69999694824219,
    "deepnote_cell_type": "markdown",
    "pycharm": {
     "name": "#%% md\n"
    }
   },
   "source": [
    "---\n",
    "\n",
    "## 3. Preprocesamiento, Holdout y Feature Engineering"
   ]
  },
  {
   "cell_type": "code",
   "execution_count": null,
   "id": "63034ae6",
   "metadata": {
    "cell_id": "00012-f977f172-2409-44c1-9ff4-118d043985cc",
    "deepnote_cell_height": 80.13333129882812,
    "deepnote_cell_type": "code",
    "deepnote_to_be_reexecuted": false,
    "execution_start": 1637954166470,
    "pycharm": {
     "name": "#%%\n"
    },
    "source_hash": "2dc8e0f4"
   },
   "outputs": [],
   "source": [
    "## Código Holdout"
   ]
  },
  {
   "cell_type": "code",
   "execution_count": null,
   "id": "b25c8018",
   "metadata": {
    "cell_id": "00014-3a4f50bf-0f3a-496f-9360-ce23ceaba0cb",
    "deepnote_cell_height": 80.13333129882812,
    "deepnote_cell_type": "code",
    "deepnote_to_be_reexecuted": false,
    "execution_start": 1637954166470,
    "pycharm": {
     "name": "#%%\n"
    },
    "source_hash": "2dc8e0f4"
   },
   "outputs": [],
   "source": [
    "## Código ColumnTransformer"
   ]
  },
  {
   "cell_type": "code",
   "execution_count": null,
   "id": "a8204148",
   "metadata": {
    "cell_id": "00016-5586ef61-95ea-4f5a-8ad0-796be8c78ac0",
    "deepnote_cell_height": 80.13333129882812,
    "deepnote_cell_type": "code",
    "deepnote_to_be_reexecuted": false,
    "execution_start": 1637954166471,
    "pycharm": {
     "name": "#%%\n"
    },
    "source_hash": "2dc8e0f4"
   },
   "outputs": [],
   "source": [
    "## Código Feature Engineering (Opcional)"
   ]
  },
  {
   "cell_type": "code",
   "execution_count": null,
   "id": "235f3aee",
   "metadata": {
    "cell_id": "ec9c0f8a2b044f858858ef3c3248c239",
    "deepnote_cell_height": 102,
    "deepnote_cell_type": "code",
    "pycharm": {
     "name": "#%%\n"
    },
    "tags": []
   },
   "outputs": [],
   "source": [
    "```\n",
    "Comentarios\n",
    "```"
   ]
  },
  {
   "cell_type": "markdown",
   "id": "d90603eb",
   "metadata": {
    "cell_id": "00018-d6de5b4a-3ce2-4aaa-9421-121c4fcaf3b5",
    "deepnote_cell_height": 117.69999694824219,
    "deepnote_cell_type": "markdown",
    "pycharm": {
     "name": "#%% md\n"
    }
   },
   "source": [
    "---\n",
    "\n",
    "## 4. Clasificación\n",
    "\n",
    "### 4.1 Dummy y Baseline"
   ]
  },
  {
   "cell_type": "code",
   "execution_count": null,
   "id": "c7c3ff75",
   "metadata": {
    "cell_id": "00020-830185e8-7ee6-44a5-89f0-ccb5e5d4ef76",
    "deepnote_cell_height": 80.13333129882812,
    "deepnote_cell_type": "code",
    "deepnote_to_be_reexecuted": false,
    "execution_start": 1637954166499,
    "pycharm": {
     "name": "#%%\n"
    },
    "source_hash": "3e943dc6"
   },
   "outputs": [],
   "source": [
    "## Código Dummy"
   ]
  },
  {
   "cell_type": "code",
   "execution_count": null,
   "id": "49b56ece",
   "metadata": {
    "cell_id": "767a72b6c3ca4caa86bf94ce7f00421b",
    "deepnote_cell_height": 66,
    "deepnote_cell_type": "code",
    "pycharm": {
     "name": "#%%\n"
    },
    "tags": []
   },
   "outputs": [],
   "source": [
    "## Código Clasificador"
   ]
  },
  {
   "cell_type": "code",
   "execution_count": null,
   "id": "df30a726",
   "metadata": {
    "cell_id": "57e26f4f95c440a2be8794ea16cb12db",
    "deepnote_cell_height": 66,
    "deepnote_cell_type": "code",
    "pycharm": {
     "name": "#%%\n"
    },
    "tags": []
   },
   "outputs": [],
   "source": [
    "## Código Comparación de métricas"
   ]
  },
  {
   "cell_type": "markdown",
   "id": "fbdf1a22",
   "metadata": {
    "cell_id": "8b46d8fd6f9544b199b67020abad2562",
    "deepnote_cell_height": 69.93333435058594,
    "deepnote_cell_type": "markdown",
    "pycharm": {
     "name": "#%% md\n"
    },
    "tags": []
   },
   "source": [
    "```\n",
    "Justificación\n",
    "```"
   ]
  },
  {
   "cell_type": "markdown",
   "id": "3a6087d3",
   "metadata": {
    "cell_id": "00021-c294ef41-853d-4297-b051-d5d4e6577715",
    "deepnote_cell_height": 61.69999694824219,
    "deepnote_cell_type": "markdown",
    "pycharm": {
     "name": "#%% md\n"
    }
   },
   "source": [
    "---\n",
    "\n",
    "### 4.2 Búsqueda del mejor modelo de Clasificación\n"
   ]
  },
  {
   "cell_type": "code",
   "execution_count": null,
   "id": "b22262a6",
   "metadata": {
    "cell_id": "00022-b323dc3e-6fa0-4d50-8a50-56ad708178ba",
    "deepnote_cell_height": 80.13333129882812,
    "deepnote_cell_type": "code",
    "deepnote_to_be_reexecuted": false,
    "execution_start": 1637954166499,
    "pycharm": {
     "name": "#%%\n"
    },
    "source_hash": "8f673430",
    "tags": []
   },
   "outputs": [],
   "source": [
    "### Código GridSearch"
   ]
  },
  {
   "cell_type": "code",
   "execution_count": null,
   "id": "29c720e4",
   "metadata": {
    "cell_id": "12d71cdc88dd4c06b9a7e1696853f7b2",
    "deepnote_cell_height": 66,
    "deepnote_cell_type": "code",
    "pycharm": {
     "name": "#%%\n"
    },
    "tags": []
   },
   "outputs": [],
   "source": [
    "### Código Predicción de datos de la competencia aquí"
   ]
  },
  {
   "cell_type": "markdown",
   "id": "e7114914",
   "metadata": {
    "cell_id": "00023-73786884-e1b2-448a-9636-ab05cf3c1fc5",
    "deepnote_cell_height": 69.93333435058594,
    "deepnote_cell_type": "markdown",
    "pycharm": {
     "name": "#%% md\n"
    }
   },
   "source": [
    "```\n",
    "Justificación Aquí\n",
    "```"
   ]
  },
  {
   "cell_type": "markdown",
   "id": "c77eadd7",
   "metadata": {
    "cell_id": "2d58aececbe34d6184477c8e3cfaa2e3",
    "deepnote_cell_height": 117.69999694824219,
    "deepnote_cell_type": "markdown",
    "pycharm": {
     "name": "#%% md\n"
    },
    "tags": []
   },
   "source": [
    "---\n",
    "\n",
    "## 5. Regresión\n",
    "\n",
    "### 5.1 Dummy y Baseline"
   ]
  },
  {
   "cell_type": "code",
   "execution_count": null,
   "id": "70cb1aae",
   "metadata": {
    "cell_id": "86fd465c690a46d1bafed3115c0bceff",
    "deepnote_cell_height": 66,
    "deepnote_cell_type": "code",
    "pycharm": {
     "name": "#%%\n"
    },
    "tags": []
   },
   "outputs": [],
   "source": [
    "## Código Dummy"
   ]
  },
  {
   "cell_type": "code",
   "execution_count": null,
   "id": "a63379fe",
   "metadata": {
    "cell_id": "faaf5b0b0d34479bad168c8dd4cbe508",
    "deepnote_cell_height": 66,
    "deepnote_cell_type": "code",
    "pycharm": {
     "name": "#%%\n"
    },
    "tags": []
   },
   "outputs": [],
   "source": [
    "## Código Regresor"
   ]
  },
  {
   "cell_type": "code",
   "execution_count": null,
   "id": "1aa814dd",
   "metadata": {
    "cell_id": "4e397759bca54254b536d998f20cbd08",
    "deepnote_cell_height": 66,
    "deepnote_cell_type": "code",
    "pycharm": {
     "name": "#%%\n"
    },
    "tags": []
   },
   "outputs": [],
   "source": [
    "## Código Comparación de métricas"
   ]
  },
  {
   "cell_type": "markdown",
   "id": "63057824",
   "metadata": {
    "cell_id": "23ba7e6c56c841d8b2c11563ca64bf20",
    "deepnote_cell_height": 69.93333435058594,
    "deepnote_cell_type": "markdown",
    "pycharm": {
     "name": "#%% md\n"
    },
    "tags": []
   },
   "source": [
    "```\n",
    "Justificación\n",
    "```"
   ]
  },
  {
   "cell_type": "markdown",
   "id": "2fbcddb1",
   "metadata": {
    "cell_id": "df491c3ed9704211be52235df236b889",
    "deepnote_cell_height": 61.69999694824219,
    "deepnote_cell_type": "markdown",
    "pycharm": {
     "name": "#%% md\n"
    },
    "tags": []
   },
   "source": [
    "---\n",
    "\n",
    "### 5.2 Búsqueda del mejor modelo de Regresión\n"
   ]
  },
  {
   "cell_type": "code",
   "execution_count": null,
   "id": "9def8e72",
   "metadata": {
    "cell_id": "cfc6786c0598444bb8070990453da397",
    "deepnote_cell_height": 66,
    "deepnote_cell_type": "code",
    "pycharm": {
     "name": "#%%\n"
    },
    "tags": []
   },
   "outputs": [],
   "source": [
    "### Código GridSearch"
   ]
  },
  {
   "cell_type": "code",
   "execution_count": null,
   "id": "da12b8f4",
   "metadata": {
    "cell_id": "b00b9baef48947d9abcfb6972bdaa3aa",
    "deepnote_cell_height": 66,
    "deepnote_cell_type": "code",
    "pycharm": {
     "name": "#%%\n"
    },
    "tags": []
   },
   "outputs": [],
   "source": [
    "### Código Predicción de datos de la competencia aquí"
   ]
  },
  {
   "cell_type": "markdown",
   "id": "7a4138d5",
   "metadata": {
    "cell_id": "00025-2acf9c12-da85-4c1f-add5-f2b0f600177f",
    "deepnote_cell_height": 69.69999694824219,
    "deepnote_cell_type": "markdown",
    "pycharm": {
     "name": "#%% md\n"
    }
   },
   "source": [
    "---\n",
    "\n",
    "## 6. Conclusiones"
   ]
  },
  {
   "cell_type": "markdown",
   "id": "9fefd1dc",
   "metadata": {
    "cell_id": "00026-15c07b20-0e16-48fa-bf3c-33aeb2c4c1db",
    "deepnote_cell_height": 51.53334045410156,
    "deepnote_cell_type": "markdown",
    "pycharm": {
     "name": "#%% md\n"
    }
   },
   "source": [
    "Conclusiones...\n",
    "\n"
   ]
  },
  {
   "cell_type": "markdown",
   "id": "c66d7928",
   "metadata": {
    "cell_id": "00027-1e362e1d-a776-4423-93d5-0f568476e4c1",
    "deepnote_cell_height": 84.10000610351562,
    "deepnote_cell_type": "markdown",
    "pycharm": {
     "name": "#%% md\n"
    },
    "tags": []
   },
   "source": [
    "---\n",
    "\n",
    "<br>\n",
    "\n",
    "### Anexo: Generación de Archivo Submit de la Competencia"
   ]
  },
  {
   "cell_type": "markdown",
   "id": "7d086b7b",
   "metadata": {
    "cell_id": "00028-0a64e7e8-1077-4868-8c96-db3d51323157",
    "deepnote_cell_height": 671.9000244140625,
    "deepnote_cell_type": "markdown",
    "pycharm": {
     "name": "#%% md\n"
    },
    "tags": []
   },
   "source": [
    "Para subir los resultados obtenidos a la pagina de CodaLab utilice la función `generateFiles` entregada mas abajo. Esto es debido a que usted deberá generar archivos que respeten extrictamente el formato de CodaLab, de lo contario los resultados no se veran reflejados en la pagina de la competencia.\n",
    "\n",
    "Para los resultados obtenidos en su modelo de clasificación y regresión, estos serán guardados en un archivo zip que contenga los archivos `predicctions_clf.txt` para la clasificación y `predicctions_rgr.clf` para la regresión. Los resultados, como se comento antes, deberan ser obtenidos en base al dataset `test.pickle` y en cada una de las lineas deberan presentar las predicciones realizadas.\n",
    "\n",
    "Ejemplos de archivos:\n",
    "\n",
    "- [ ] `predicctions_clf.txt`\n",
    "\n",
    "        Mostly Positive\n",
    "        Mostly Positive\n",
    "        Negative\n",
    "        Positive\n",
    "        Negative\n",
    "        Positive\n",
    "        ...\n",
    "\n",
    "- [ ] `predicctions_rgr.txt`\n",
    "\n",
    "        16103.58\n",
    "        16103.58\n",
    "        16041.89\n",
    "        9328.62\n",
    "        107976.03\n",
    "        194374.08\n",
    "        ...\n",
    "\n"
   ]
  },
  {
   "cell_type": "code",
   "execution_count": null,
   "id": "12ae6693",
   "metadata": {
    "cell_id": "00029-55f95a4c-2d1f-4354-a690-049fea34bdac",
    "deepnote_cell_height": 620.13330078125,
    "deepnote_cell_type": "code",
    "deepnote_to_be_reexecuted": false,
    "execution_start": 1637954166501,
    "pycharm": {
     "name": "#%%\n"
    },
    "source_hash": "b1cdf32f",
    "tags": []
   },
   "outputs": [],
   "source": [
    "from zipfile import ZipFile\n",
    "import os\n",
    "\n",
    "def generateFiles(predict_data, clf_pipe, rgr_pipe):\n",
    "    \"\"\"Genera los archivos a subir en CodaLab\n",
    "\n",
    "    Input\n",
    "    predict_data: Dataframe con los datos de entrada a predecir\n",
    "    clf_pipe: pipeline del clf\n",
    "    rgr_pipe: pipeline del rgr\n",
    "\n",
    "    Ouput\n",
    "    archivo de txt\n",
    "    \"\"\"\n",
    "    y_pred_clf = clf_pipe.predict(predict_data)\n",
    "    y_pred_rgr = rgr_pipe.predict(predict_data)\n",
    "    \n",
    "    with open('./predictions_clf.txt', 'w') as f:\n",
    "        for item in y_pred_clf:\n",
    "            f.write(\"%s\\n\" % item)\n",
    "\n",
    "    with open('./predictions_rgr.txt', 'w') as f:\n",
    "        for item in y_pred_rgr:\n",
    "            f.write(\"%s\\n\" % item)\n",
    "\n",
    "    with ZipFile('predictions.zip', 'w') as zipObj2:\n",
    "       zipObj2.write('predictions_rgr.txt')\n",
    "       zipObj2.write('predictions_clf.txt')\n",
    "\n",
    "    os.remove(\"predictions_rgr.txt\")\n",
    "    os.remove(\"predictions_clf.txt\")"
   ]
  },
  {
   "cell_type": "code",
   "execution_count": null,
   "id": "8f7b9276",
   "metadata": {
    "cell_id": "b589f659ce2246919e3707e79420aff2",
    "deepnote_cell_height": 138,
    "deepnote_cell_type": "code",
    "pycharm": {
     "name": "#%%\n"
    },
    "tags": []
   },
   "outputs": [],
   "source": [
    "# Ejecutar función para generar el archivo de predicciones.\n",
    "# perdict_data debe tener cargada los datos del text.pickle\n",
    "# mientras que clf_pipe y rgr_pipe, son los pipeline de \n",
    "# clasificación y regresión respectivamente.\n",
    "generateFiles(predict_data, clf_pipe, rgr_pipe)"
   ]
  },
  {
   "cell_type": "markdown",
   "id": "c1946168",
   "metadata": {
    "created_in_deepnote_cell": true,
    "deepnote_cell_type": "markdown",
    "pycharm": {
     "name": "#%% md\n"
    },
    "tags": []
   },
   "source": [
    "<a style='text-decoration:none;line-height:16px;display:flex;color:#5B5B62;padding:10px;justify-content:end;' href='https://deepnote.com?utm_source=created-in-deepnote-cell&projectId=87110296-876e-426f-b91d-aaf681223468' target=\"_blank\">\n",
    "<img alt='Created in deepnote.com' style='display:inline;max-height:16px;margin:0px;margin-right:7.5px;' src='data:image/svg+xml;base64,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' > </img>\n",
    "Created in <span style='font-weight:600;margin-left:4px;'>Deepnote</span></a>"
   ]
  }
 ],
 "metadata": {
  "deepnote": {},
  "deepnote_execution_queue": [],
  "deepnote_notebook_id": "dbddc0f3-10b8-4160-bc27-ac993196164c",
  "kernelspec": {
   "display_name": "Python 3 (ipykernel)",
   "language": "python",
   "name": "python3"
  },
  "language_info": {
   "codemirror_mode": {
    "name": "ipython",
    "version": 3
   },
   "file_extension": ".py",
   "mimetype": "text/x-python",
   "name": "python",
   "nbconvert_exporter": "python",
   "pygments_lexer": "ipython3",
   "version": "3.10.4"
  }
 },
 "nbformat": 4,
 "nbformat_minor": 5
}